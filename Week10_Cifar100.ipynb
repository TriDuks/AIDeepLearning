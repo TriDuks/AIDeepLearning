{
  "nbformat": 4,
  "nbformat_minor": 0,
  "metadata": {
    "colab": {
      "provenance": [],
      "authorship_tag": "ABX9TyN0R8GZIEzDBujQQ503w/eF",
      "include_colab_link": true
    },
    "kernelspec": {
      "name": "python3",
      "display_name": "Python 3"
    },
    "language_info": {
      "name": "python"
    }
  },
  "cells": [
    {
      "cell_type": "markdown",
      "metadata": {
        "id": "view-in-github",
        "colab_type": "text"
      },
      "source": [
        "<a href=\"https://colab.research.google.com/github/TriDuks/AIXuLyAnh/blob/main/Week10_Cifar100.ipynb\" target=\"_parent\"><img src=\"https://colab.research.google.com/assets/colab-badge.svg\" alt=\"Open In Colab\"/></a>"
      ]
    },
    {
      "cell_type": "code",
      "execution_count": 13,
      "metadata": {
        "colab": {
          "base_uri": "https://localhost:8080/"
        },
        "id": "v5L1KGcxwkFZ",
        "outputId": "c58e7e8f-dbe4-4c22-d3db-adc260b47fd4"
      },
      "outputs": [
        {
          "output_type": "stream",
          "name": "stdout",
          "text": [
            "Downloading data from https://www.cs.toronto.edu/~kriz/cifar-100-python.tar.gz\n",
            "169001437/169001437 [==============================] - 2s 0us/step\n",
            "(50000, 3072)\n",
            "(10000, 3072)\n",
            "(50000, 1)\n",
            "(10000, 1)\n"
          ]
        }
      ],
      "source": [
        "from keras.datasets import cifar100\n",
        "from keras.utils import to_categorical\n",
        "from tensorflow import keras\n",
        "\n",
        "keras.datasets.cifar100.load_data()\n",
        "(x_train, y_train),(x_test, y_test) = keras.datasets.cifar100.load_data()\n",
        "x_train = x_train.reshape(50000,32*32*3)\n",
        "x_train = x_train.astype('float32')/255\n",
        "\n",
        "x_test = x_test.reshape(10000,32*32*3)\n",
        "x_test = x_test.astype('float32')/255\n",
        "print(x_train.shape)\n",
        "print(x_test.shape)\n",
        "\n",
        "print(y_train.shape)\n",
        "print(y_test.shape)"
      ]
    },
    {
      "cell_type": "code",
      "source": [
        "\n",
        "train_label = to_categorical(y_train,100)#chuyển thành 10 bit one hot encoding\n",
        "test_label =to_categorical(y_test,100)\n"
      ],
      "metadata": {
        "id": "8NhDCfhI11P2"
      },
      "execution_count": 14,
      "outputs": []
    },
    {
      "cell_type": "code",
      "source": [
        "from keras.models import Sequential\n",
        "from keras.layers import Dense\n",
        "model = Sequential()\n",
        "model.add(Dense(2000,activation = \"relu\", input_shape = (32*32*3,),name = 'layer1'))\n",
        "model.add(Dense(1000,activation = \"relu\",name = 'layer2'))\n",
        "model.add(Dense(100, activation = \"softmax\",name = 'layer3'))\n",
        "model.summary"
      ],
      "metadata": {
        "colab": {
          "base_uri": "https://localhost:8080/"
        },
        "id": "wFp3thwj2Nnz",
        "outputId": "f81597a8-fd34-432a-ea13-2cd7d8aaa9bc"
      },
      "execution_count": 4,
      "outputs": [
        {
          "output_type": "execute_result",
          "data": {
            "text/plain": [
              "<bound method Model.summary of <keras.engine.sequential.Sequential object at 0x7f2d42dcec40>>"
            ]
          },
          "metadata": {},
          "execution_count": 4
        }
      ]
    },
    {
      "cell_type": "code",
      "source": [
        "from keras.backend import categorical_crossentropy\n",
        "\n",
        "#Biên dịch1\n",
        "model.compile(optimizer = 'rmsprop', loss = 'categorical_crossentropy', metrics = ['accuracy'])\n",
        "model.fit(x_train, train_label, epochs = 10, batch_size = 256)\n",
        "test_loss, test_acc = model.evaluate(x_test, test_label)\n",
        "print('test_accuracy: ', test_acc)\n",
        "print('test_loss: ', test_loss)"
      ],
      "metadata": {
        "colab": {
          "base_uri": "https://localhost:8080/"
        },
        "id": "_tE-ieWP6FES",
        "outputId": "4efb641a-7e5d-46f8-f2ea-49a977003caa"
      },
      "execution_count": null,
      "outputs": [
        {
          "output_type": "stream",
          "name": "stdout",
          "text": [
            "Epoch 1/10\n",
            "196/196 [==============================] - 58s 290ms/step - loss: 4.5090 - accuracy: 0.0546\n",
            "Epoch 2/10\n",
            "196/196 [==============================] - 54s 275ms/step - loss: 3.8428 - accuracy: 0.1117\n",
            "Epoch 3/10\n",
            " 64/196 [========>.....................] - ETA: 37s - loss: 3.6770 - accuracy: 0.1396"
          ]
        }
      ]
    },
    {
      "cell_type": "code",
      "source": [
        "from google.colab import drive\n",
        "drive.mount('/content/drive')"
      ],
      "metadata": {
        "id": "Q8AO0mgPC5Dh"
      },
      "execution_count": null,
      "outputs": []
    },
    {
      "cell_type": "code",
      "source": [
        "model.save('/content/drive/MyDrive/Colab Notbooks/cifar100/Week10_Cifar100.h5')"
      ],
      "metadata": {
        "id": "ae16ufCw6e5p",
        "colab": {
          "base_uri": "https://localhost:8080/"
        },
        "outputId": "1247868d-3ea5-4008-8508-1c1eb42a7453"
      },
      "execution_count": 11,
      "outputs": [
        {
          "output_type": "stream",
          "name": "stderr",
          "text": [
            "WARNING:tensorflow:Compiled the loaded model, but the compiled metrics have yet to be built. `model.compile_metrics` will be empty until you train or evaluate the model.\n"
          ]
        }
      ]
    }
  ]
}