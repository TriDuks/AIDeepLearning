{
  "nbformat": 4,
  "nbformat_minor": 0,
  "metadata": {
    "colab": {
      "provenance": [],
      "authorship_tag": "ABX9TyN5Av8LCbRl4akar6xjQi0x",
      "include_colab_link": true
    },
    "kernelspec": {
      "name": "python3",
      "display_name": "Python 3"
    },
    "language_info": {
      "name": "python"
    }
  },
  "cells": [
    {
      "cell_type": "markdown",
      "metadata": {
        "id": "view-in-github",
        "colab_type": "text"
      },
      "source": [
        "<a href=\"https://colab.research.google.com/github/TriDuks/AIXuLyAnh/blob/main/CNNpFashion.ipynb\" target=\"_parent\"><img src=\"https://colab.research.google.com/assets/colab-badge.svg\" alt=\"Open In Colab\"/></a>"
      ]
    },
    {
      "cell_type": "code",
      "source": [
        "from keras.datasets import fashion_mnist\n",
        "import matplotlib.pyplot as plt\n"
      ],
      "metadata": {
        "id": "vnG0g7gG4HPE"
      },
      "execution_count": 56,
      "outputs": []
    },
    {
      "cell_type": "code",
      "execution_count": 90,
      "metadata": {
        "id": "budittDg3o-O"
      },
      "outputs": [],
      "source": [
        "keras.datasets.fashion_mnist.load_data()\n",
        "(train_x,train_y),(test_x,test_y) = keras.datasets.fashion_mnist.load_data()"
      ]
    },
    {
      "cell_type": "code",
      "source": [
        "print('trainx', train_x.shape)\n",
        "print('testx', test_x.shape)"
      ],
      "metadata": {
        "colab": {
          "base_uri": "https://localhost:8080/"
        },
        "id": "9egrSRoL4aAg",
        "outputId": "84bc9b09-745b-416c-e57a-b979c3a6d056"
      },
      "execution_count": 58,
      "outputs": [
        {
          "output_type": "stream",
          "name": "stdout",
          "text": [
            "trainx (60000, 28, 28)\n",
            "testx (10000, 28, 28)\n"
          ]
        }
      ]
    },
    {
      "cell_type": "code",
      "source": [
        "plt.figure(figsize = [10,10])\n",
        "plt.subplot(121)\n",
        "plt.imshow(train_x[0], cmap = 'gray')\n",
        "plt.title('Số: {}'.format(train_y[0]))\n",
        "plt.subplot(122)\n",
        "plt.imshow(train_x[100], cmap = 'gray')\n",
        "plt.title('Số: {}'.format(train_y[100]))"
      ],
      "metadata": {
        "colab": {
          "base_uri": "https://localhost:8080/",
          "height": 452
        },
        "id": "Xv4Z359G4omw",
        "outputId": "91013099-ea33-4f9a-f372-071cc319cbb2"
      },
      "execution_count": 59,
      "outputs": [
        {
          "output_type": "execute_result",
          "data": {
            "text/plain": [
              "Text(0.5, 1.0, 'Số: 8')"
            ]
          },
          "metadata": {},
          "execution_count": 59
        },
        {
          "output_type": "display_data",
          "data": {
            "text/plain": [
              "<Figure size 1000x1000 with 2 Axes>"
            ],
            "image/png": "[encoded data removed]"
          },
          "metadata": {}
        }
      ]
    },
    {
      "cell_type": "code",
      "source": [
        "train_x = train_x.reshape(60000,28,28,1)\n",
        "test_x = test_x.reshape(10000,28,28,1)\n",
        "train_x.reshape,test_x.reshape\n",
        "train_x = train_x.astype('float32')\n",
        "train_x = train_x/255"
      ],
      "metadata": {
        "id": "K8noc1gU6Nnl"
      },
      "execution_count": 60,
      "outputs": []
    },
    {
      "cell_type": "code",
      "source": [
        "from keras.utils import to_categorical\n",
        "train_y = to_categorical(train_y)\n",
        "test_y = to_categorical(test_y)\n",
        "from keras.models import Sequential, Model\n",
        "from keras.layers import Dense, Input, Flatten, Dropout, Conv2D, MaxPool2D, Normalization\n",
        "from keras.optimizers import Adam\n",
        "\n",
        "batch_size = 64 #Lô để hạn, fitBox là lô để phân loại\n",
        "epochs_size = 20\n",
        "classes = 10\n",
        "model = Sequential()\n",
        "model.add(Conv2D(32, kernel_size=(3,3), activation='linear', input_shape = (28,28,10), padding = 'same'))  #Padding kichs thước bộ đệm sẽ bằng kích thước ban đầu\n",
        "model.summary"
      ],
      "metadata": {
        "colab": {
          "base_uri": "https://localhost:8080/"
        },
        "id": "C5lvkYnB7NAK",
        "outputId": "aeceb7f2-5b1c-4a2f-8389-42de0d121635"
      },
      "execution_count": 61,
      "outputs": [
        {
          "output_type": "execute_result",
          "data": {
            "text/plain": [
              "<bound method Model.summary of <keras.engine.sequential.Sequential object at 0x7f96de3424c0>>"
            ]
          },
          "metadata": {},
          "execution_count": 61
        }
      ]
    },
    {
      "cell_type": "code",
      "source": [
        "from keras.layers.pooling.max_pooling2d import MaxPooling2D\n",
        "from keras.layers.activation.leaky_relu import LeakyReLU\n",
        "model.add(LeakyReLU(alpha = 0.1))\n",
        "model.add(MaxPooling2D((2,2), padding = 'same'))\n",
        "model.add(Conv2D(64,(3,3), activation='linear', padding = 'same'))\n",
        "model.add(LeakyReLU(alpha = 0.1))"
      ],
      "metadata": {
        "id": "3U7y4y2l980b"
      },
      "execution_count": 63,
      "outputs": []
    },
    {
      "cell_type": "code",
      "source": [
        "model.add(Conv2D(128,(3,3), activation='linear', padding = 'same'))\n",
        "model.add(LeakyReLU(alpha = 0.1))\n",
        "\n",
        "from keras import optimizers\n",
        "from keras.optimizers import Adam\n",
        "from keras.losses import categorical_crossentropy\n",
        "model.add(Flatten())    #Tự động lấy ảnh tạo thành 1 Vector\n",
        "model.add(Dense(128, activation='linear')) #Chayj 128 tế bạo điểm ảnh sau đó xuất ra 10 loại\n",
        "model.add(LeakyReLU(alpha = 0.1))\n",
        "model.add(Dense(classes, activation='softmax'))\n",
        "model.compile(loss='categorical_crossentropy', optimizer = Adam(), metrics = ['accuracy'])\n",
        "model.summary()"
      ],
      "metadata": {
        "colab": {
          "base_uri": "https://localhost:8080/"
        },
        "id": "qd20vaZEAEXd",
        "outputId": "a0d50fb5-6163-4fe2-ac2d-57100fffa7dd"
      },
      "execution_count": 88,
      "outputs": [
        {
          "output_type": "stream",
          "name": "stdout",
          "text": [
            "Model: \"sequential_5\"\n",
            "_________________________________________________________________\n",
            " Layer (type)                Output Shape              Param #   \n",
            "=================================================================\n",
            " conv2d_7 (Conv2D)           (None, 28, 28, 32)        2912      \n",
            "                                                                 \n",
            " leaky_re_lu_19 (LeakyReLU)  (None, 28, 28, 32)        0         \n",
            "                                                                 \n",
            " max_pooling2d_3 (MaxPooling  (None, 14, 14, 32)       0         \n",
            " 2D)                                                             \n",
            "                                                                 \n",
            " conv2d_8 (Conv2D)           (None, 14, 14, 64)        18496     \n",
            "                                                                 \n",
            " leaky_re_lu_20 (LeakyReLU)  (None, 14, 14, 64)        0         \n",
            "                                                                 \n",
            " conv2d_9 (Conv2D)           (None, 14, 14, 128)       73856     \n",
            "                                                                 \n",
            " leaky_re_lu_21 (LeakyReLU)  (None, 14, 14, 128)       0         \n",
            "                                                                 \n",
            " flatten_12 (Flatten)        (None, 25088)             0         \n",
            "                                                                 \n",
            " dense_22 (Dense)            (None, 128)               3211392   \n",
            "                                                                 \n",
            " leaky_re_lu_22 (LeakyReLU)  (None, 128)               0         \n",
            "                                                                 \n",
            " dense_23 (Dense)            (None, 10)                1290      \n",
            "                                                                 \n",
            " flatten_13 (Flatten)        (None, 10)                0         \n",
            "                                                                 \n",
            " dense_24 (Dense)            (None, 128)               1408      \n",
            "                                                                 \n",
            " leaky_re_lu_23 (LeakyReLU)  (None, 128)               0         \n",
            "                                                                 \n",
            " dense_25 (Dense)            (None, 10)                1290      \n",
            "                                                                 \n",
            " flatten_14 (Flatten)        (None, 10)                0         \n",
            "                                                                 \n",
            " dense_26 (Dense)            (None, 128)               1408      \n",
            "                                                                 \n",
            " leaky_re_lu_24 (LeakyReLU)  (None, 128)               0         \n",
            "                                                                 \n",
            " dense_27 (Dense)            (None, 10)                1290      \n",
            "                                                                 \n",
            " flatten_15 (Flatten)        (None, 10)                0         \n",
            "                                                                 \n",
            " dense_28 (Dense)            (None, 128)               1408      \n",
            "                                                                 \n",
            " leaky_re_lu_25 (LeakyReLU)  (None, 128)               0         \n",
            "                                                                 \n",
            " dense_29 (Dense)            (None, 10)                1290      \n",
            "                                                                 \n",
            "=================================================================\n",
            "Total params: 3,316,040\n",
            "Trainable params: 3,316,040\n",
            "Non-trainable params: 0\n",
            "_________________________________________________________________\n"
          ]
        }
      ]
    },
    {
      "cell_type": "code",
      "source": [
        "train = model.fit(train_x, train_y, batch_size = batch_size, epochs = 20, verbose = 1) "
      ],
      "metadata": {
        "colab": {
          "base_uri": "https://localhost:8080/",
          "height": 711
        },
        "id": "8eE3y2BWB24p",
        "outputId": "46250b54-fb3c-4d7b-b6bd-b6ca4f8415a2"
      },
      "execution_count": 93,
      "outputs": [
        {
          "output_type": "stream",
          "name": "stdout",
          "text": [
            "Epoch 1/20\n"
          ]
        },
        {
          "output_type": "error",
          "ename": "ValueError",
          "evalue": "ignored",
          "traceback": [
            "\u001b[0;31m---------------------------------------------------------------------------\u001b[0m",
            "\u001b[0;31mValueError\u001b[0m                                Traceback (most recent call last)",
            "\u001b[0;32m<ipython-input-93-051b0338788b>\u001b[0m in \u001b[0;36m<cell line: 1>\u001b[0;34m()\u001b[0m\n\u001b[0;32m----> 1\u001b[0;31m \u001b[0mtrain\u001b[0m \u001b[0;34m=\u001b[0m \u001b[0mmodel\u001b[0m\u001b[0;34m.\u001b[0m\u001b[0mfit\u001b[0m\u001b[0;34m(\u001b[0m\u001b[0mtrain_x\u001b[0m\u001b[0;34m,\u001b[0m \u001b[0mtrain_y\u001b[0m\u001b[0;34m,\u001b[0m \u001b[0mbatch_size\u001b[0m \u001b[0;34m=\u001b[0m \u001b[0mbatch_size\u001b[0m\u001b[0;34m,\u001b[0m \u001b[0mepochs\u001b[0m \u001b[0;34m=\u001b[0m \u001b[0;36m20\u001b[0m\u001b[0;34m,\u001b[0m \u001b[0mverbose\u001b[0m \u001b[0;34m=\u001b[0m \u001b[0;36m1\u001b[0m\u001b[0;34m)\u001b[0m\u001b[0;34m\u001b[0m\u001b[0;34m\u001b[0m\u001b[0m\n\u001b[0m",
            "\u001b[0;32m/usr/local/lib/python3.9/dist-packages/keras/utils/traceback_utils.py\u001b[0m in \u001b[0;36merror_handler\u001b[0;34m(*args, **kwargs)\u001b[0m\n\u001b[1;32m     68\u001b[0m             \u001b[0;31m# To get the full stack trace, call:\u001b[0m\u001b[0;34m\u001b[0m\u001b[0;34m\u001b[0m\u001b[0m\n\u001b[1;32m     69\u001b[0m             \u001b[0;31m# `tf.debugging.disable_traceback_filtering()`\u001b[0m\u001b[0;34m\u001b[0m\u001b[0;34m\u001b[0m\u001b[0m\n\u001b[0;32m---> 70\u001b[0;31m             \u001b[0;32mraise\u001b[0m \u001b[0me\u001b[0m\u001b[0;34m.\u001b[0m\u001b[0mwith_traceback\u001b[0m\u001b[0;34m(\u001b[0m\u001b[0mfiltered_tb\u001b[0m\u001b[0;34m)\u001b[0m \u001b[0;32mfrom\u001b[0m \u001b[0;32mNone\u001b[0m\u001b[0;34m\u001b[0m\u001b[0;34m\u001b[0m\u001b[0m\n\u001b[0m\u001b[1;32m     71\u001b[0m         \u001b[0;32mfinally\u001b[0m\u001b[0;34m:\u001b[0m\u001b[0;34m\u001b[0m\u001b[0;34m\u001b[0m\u001b[0m\n\u001b[1;32m     72\u001b[0m             \u001b[0;32mdel\u001b[0m \u001b[0mfiltered_tb\u001b[0m\u001b[0;34m\u001b[0m\u001b[0;34m\u001b[0m\u001b[0m\n",
            "\u001b[0;32m/usr/local/lib/python3.9/dist-packages/keras/engine/training.py\u001b[0m in \u001b[0;36mtf__train_function\u001b[0;34m(iterator)\u001b[0m\n\u001b[1;32m     13\u001b[0m                 \u001b[0;32mtry\u001b[0m\u001b[0;34m:\u001b[0m\u001b[0;34m\u001b[0m\u001b[0;34m\u001b[0m\u001b[0m\n\u001b[1;32m     14\u001b[0m                     \u001b[0mdo_return\u001b[0m \u001b[0;34m=\u001b[0m \u001b[0;32mTrue\u001b[0m\u001b[0;34m\u001b[0m\u001b[0;34m\u001b[0m\u001b[0m\n\u001b[0;32m---> 15\u001b[0;31m                     \u001b[0mretval_\u001b[0m \u001b[0;34m=\u001b[0m \u001b[0mag__\u001b[0m\u001b[0;34m.\u001b[0m\u001b[0mconverted_call\u001b[0m\u001b[0;34m(\u001b[0m\u001b[0mag__\u001b[0m\u001b[0;34m.\u001b[0m\u001b[0mld\u001b[0m\u001b[0;34m(\u001b[0m\u001b[0mstep_function\u001b[0m\u001b[0;34m)\u001b[0m\u001b[0;34m,\u001b[0m \u001b[0;34m(\u001b[0m\u001b[0mag__\u001b[0m\u001b[0;34m.\u001b[0m\u001b[0mld\u001b[0m\u001b[0;34m(\u001b[0m\u001b[0mself\u001b[0m\u001b[0;34m)\u001b[0m\u001b[0;34m,\u001b[0m \u001b[0mag__\u001b[0m\u001b[0;34m.\u001b[0m\u001b[0mld\u001b[0m\u001b[0;34m(\u001b[0m\u001b[0miterator\u001b[0m\u001b[0;34m)\u001b[0m\u001b[0;34m)\u001b[0m\u001b[0;34m,\u001b[0m \u001b[0;32mNone\u001b[0m\u001b[0;34m,\u001b[0m \u001b[0mfscope\u001b[0m\u001b[0;34m)\u001b[0m\u001b[0;34m\u001b[0m\u001b[0;34m\u001b[0m\u001b[0m\n\u001b[0m\u001b[1;32m     16\u001b[0m                 \u001b[0;32mexcept\u001b[0m\u001b[0;34m:\u001b[0m\u001b[0;34m\u001b[0m\u001b[0;34m\u001b[0m\u001b[0m\n\u001b[1;32m     17\u001b[0m                     \u001b[0mdo_return\u001b[0m \u001b[0;34m=\u001b[0m \u001b[0;32mFalse\u001b[0m\u001b[0;34m\u001b[0m\u001b[0;34m\u001b[0m\u001b[0m\n",
            "\u001b[0;31mValueError\u001b[0m: in user code:\n\n    File \"/usr/local/lib/python3.9/dist-packages/keras/engine/training.py\", line 1284, in train_function  *\n        return step_function(self, iterator)\n    File \"/usr/local/lib/python3.9/dist-packages/keras/engine/training.py\", line 1268, in step_function  **\n        outputs = model.distribute_strategy.run(run_step, args=(data,))\n    File \"/usr/local/lib/python3.9/dist-packages/keras/engine/training.py\", line 1249, in run_step  **\n        outputs = model.train_step(data)\n    File \"/usr/local/lib/python3.9/dist-packages/keras/engine/training.py\", line 1050, in train_step\n        y_pred = self(x, training=True)\n    File \"/usr/local/lib/python3.9/dist-packages/keras/utils/traceback_utils.py\", line 70, in error_handler\n        raise e.with_traceback(filtered_tb) from None\n    File \"/usr/local/lib/python3.9/dist-packages/keras/engine/input_spec.py\", line 253, in assert_input_compatibility\n        raise ValueError(\n\n    ValueError: Exception encountered when calling layer 'sequential_5' (type Sequential).\n    \n    Input 0 of layer \"conv2d_7\" is incompatible with the layer: expected min_ndim=4, found ndim=3. Full shape received: (None, 28, 28)\n    \n    Call arguments received by layer 'sequential_5' (type Sequential):\n      • inputs=tf.Tensor(shape=(None, 28, 28), dtype=uint8)\n      • training=True\n      • mask=None\n"
          ]
        }
      ]
    },
    {
      "cell_type": "code",
      "source": [
        "from keras.datasets import fashion_mnist\n",
        "import matplotlib.pyplot as plt\n",
        "keras.datasets.fashion_mnist.load_data()\n",
        "(train_x,train_y),(test_x,test_y) = keras.datasets.fashion_mnist.load_data()\n",
        "plt.figure(figsize = [10,10])\n",
        "plt.subplot(121)\n",
        "plt.imshow(train_x[0], cmap = 'gray')\n",
        "plt.title('Số: {}'.format(train_y[0]))\n",
        "plt.subplot(122)\n",
        "plt.imshow(train_x[100], cmap = 'gray')\n",
        "plt.title('Số: {}'.format(train_y[100]))\n",
        "train_x = train_x.reshape(60000,28,28,1)\n",
        "test_x = test_x.reshape(10000,28,28,1)\n",
        "train_x.reshape,test_x.reshape\n",
        "train_x = train_x.astype('float32')\n",
        "train_x = train_x/255\n",
        "\n",
        "from keras.utils import to_categorical\n",
        "train_y = to_categorical(train_y)\n",
        "test_y = to_categorical(test_y)\n",
        "from keras.models import Sequential, Model\n",
        "from keras.layers import Dense, Input, Flatten, Dropout, Conv2D, MaxPool2D, Normalization\n",
        "from keras.optimizers import Adam\n",
        "\n",
        "batch_size = 64 #Lô để hạn, fitBox là lô để phân loại\n",
        "epochs_size = 20\n",
        "classes = 10\n",
        "model = Sequential()\n",
        "model.add(Conv2D(32, kernel_size=(3,3), activation='linear', input_shape = (28,28,10), padding = 'same'))  #Padding kichs thước bộ đệm sẽ bằng kích thước ban đầu\n",
        "model.summary\n",
        "\n",
        "from keras.layers.pooling.max_pooling2d import MaxPooling2D\n",
        "from keras.layers.activation.leaky_relu import LeakyReLU\n",
        "model.add(LeakyReLU(alpha = 0.1))\n",
        "model.add(MaxPooling2D((2,2), padding = 'same'))\n",
        "model.add(Conv2D(64,(3,3), activation='linear', padding = 'same'))\n",
        "model.add(LeakyReLU(alpha = 0.1))\n",
        "model.add(Conv2D(128,(3,3), activation='linear', padding = 'same'))\n",
        "model.add(LeakyReLU(alpha = 0.1))\n",
        "\n",
        "from keras import optimizers\n",
        "from keras.optimizers import Adam\n",
        "from keras.losses import categorical_crossentropy\n",
        "model.add(Flatten())    #Tự động lấy ảnh tạo thành 1 Vector\n",
        "model.add(Dense(128, activation='linear')) #Chayj 128 tế bạo điểm ảnh sau đó xuất ra 10 loại\n",
        "model.add(LeakyReLU(alpha = 0.1))\n",
        "model.add(Dense(classes, activation='softmax'))\n",
        "model.compile(loss='categorical_crossentropy', optimizer = Adam(), metrics = ['accuracy'])\n",
        "model.summary()"
      ],
      "metadata": {
        "colab": {
          "base_uri": "https://localhost:8080/",
          "height": 991
        },
        "id": "aGADNyCDG0pL",
        "outputId": "fefed054-e9f7-44f1-f641-08b54afc062b"
      },
      "execution_count": 95,
      "outputs": [
        {
          "output_type": "stream",
          "name": "stdout",
          "text": [
            "Model: \"sequential_7\"\n",
            "_________________________________________________________________\n",
            " Layer (type)                Output Shape              Param #   \n",
            "=================================================================\n",
            " conv2d_13 (Conv2D)          (None, 28, 28, 32)        2912      \n",
            "                                                                 \n",
            " leaky_re_lu_30 (LeakyReLU)  (None, 28, 28, 32)        0         \n",
            "                                                                 \n",
            " max_pooling2d_7 (MaxPooling  (None, 14, 14, 32)       0         \n",
            " 2D)                                                             \n",
            "                                                                 \n",
            " conv2d_14 (Conv2D)          (None, 14, 14, 64)        18496     \n",
            "                                                                 \n",
            " leaky_re_lu_31 (LeakyReLU)  (None, 14, 14, 64)        0         \n",
            "                                                                 \n",
            " conv2d_15 (Conv2D)          (None, 14, 14, 128)       73856     \n",
            "                                                                 \n",
            " leaky_re_lu_32 (LeakyReLU)  (None, 14, 14, 128)       0         \n",
            "                                                                 \n",
            " flatten_17 (Flatten)        (None, 25088)             0         \n",
            "                                                                 \n",
            " dense_32 (Dense)            (None, 128)               3211392   \n",
            "                                                                 \n",
            " leaky_re_lu_33 (LeakyReLU)  (None, 128)               0         \n",
            "                                                                 \n",
            " dense_33 (Dense)            (None, 10)                1290      \n",
            "                                                                 \n",
            "=================================================================\n",
            "Total params: 3,307,946\n",
            "Trainable params: 3,307,946\n",
            "Non-trainable params: 0\n",
            "_________________________________________________________________\n"
          ]
        },
        {
          "output_type": "display_data",
          "data": {
            "text/plain": [
              "<Figure size 1000x1000 with 2 Axes>"
            ],
            "image/png": "[encoded data removed]"
          },
          "metadata": {}
        }
      ]
    },
    {
      "cell_type": "code",
      "source": [
        "from keras.models import Model\n",
        "from keras.layers import Input, Dense, Flatten, Dropout, Conv2D, MaxPooling2D, LeakyReLU\n",
        "\n",
        "from keras.optimizers import Adam\n",
        "#tạo mo hinh\n",
        "batch_size = 64\n",
        "epochs = 20\n",
        "classes = 10 #phan ra 10 lớp\n",
        "\n",
        "model = Sequential()\n",
        "\n",
        "#bộ 1 32 lần chập\n",
        "model.add(Conv2D(32,kernel_size=(3,3),activation = 'linear',input_shape = (28,28,1),padding = 'same')) #Thêm một lớp tích chập 2D với 32 bộ lọc\n",
        "model.add(LeakyReLU(alpha=0.1))                                                                       #Thêm một lớp LeakyReLU với hệ số alpha là 0.1\n",
        "model.add(MaxPooling2D((2,2),padding = 'same'))         #Thêm một lớp MaxPooling2D với kích thước là 2x2 và padding ở cạnh để giữ nguyên kích thước đầu vào\n",
        "\n",
        "#bộ 2 64 lần chập\n",
        "model.add(Conv2D(64, (3,3), activation='linear',padding='same'))\n",
        "model.add(LeakyReLU(alpha=0.1))\n",
        "model.add(MaxPooling2D((2,2),padding='same'))\n",
        "\n",
        "#bộ 3 128 lần chập\n",
        "model.add(Conv2D(128,(3,3),activation='linear',padding='same'))\n",
        "model.add(LeakyReLU(alpha=0.1))\n",
        "model.add(MaxPooling2D((2,2),padding='same'))\n",
        "\n",
        "#tín hiệu vào là tấm phẳng\n",
        "model.add(Flatten())\n",
        "model.add(Dense(128,activation='linear'))\n",
        "model.add(LeakyReLU(alpha=0.1))\n",
        "model.add(Dropout(0.3))\n",
        "model.add(Dense(classes, activation='softmax'))\n",
        "\n",
        "model.summary()\n",
        "#images = X; labels = Y\n",
        "# Biên dịch mô hình với Adam optimizer và hàm loss là categorical crossentropy\n",
        "opt = Adam(lr=0.001)\n",
        "model.compile(optimizer=opt, loss='categorical_crossentropy', metrics=['accuracy'])\n",
        "\n",
        "# Chuẩn bị dữ liệu cho huấn luyện và kiểm tra\n",
        "(train_images, train_labels), (test_images, test_labels) = fashion_mnist.load_data()\n",
        "\n",
        "# Chuyển đổi dữ liệu ảnh thành tensor 4D và chuẩn hóa các giá trị pixel về khoảng từ 0 đến 1\n",
        "train_images = train_images.reshape(train_images.shape[0], 28, 28, 1)\n",
        "train_images = train_images.astype('float32')\n",
        "train_images /= 255\n",
        "\n",
        "test_images = test_images.reshape(test_images.shape[0], 28, 28, 1)\n",
        "test_images = test_images.astype('float32')\n",
        "test_images /= 255\n",
        "\n",
        "# One-hot encode các nhãn cho tập huấn luyện và kiểm tra\n",
        "from keras.utils import to_categorical\n",
        "train_labels = to_categorical(train_labels, num_classes=10)\n",
        "test_labels = to_categorical(test_labels, num_classes=10)\n",
        "\n",
        "# Huấn luyện mô hình trên tập dữ liệu huấn luyện\n",
        "model.fit(train_images, train_labels, batch_size=batch_size, epochs=epochs, verbose=1) #xuất hiện chỉ 1 làn rồi biến mất\n",
        "\n",
        "# Đánh giá hiệu suất của mô hình trên tập dữ liệu kiểm tra\n",
        "score = model.evaluate(test_images, test_labels, verbose=0)\n",
        "print('Test loss:', score[0])\n",
        "print('Test accuracy:', score[1])"
      ],
      "metadata": {
        "colab": {
          "base_uri": "https://localhost:8080/"
        },
        "id": "fa3GmuuA7Vx8",
        "outputId": "4f6911a5-5549-4d7b-a997-48722e027983"
      },
      "execution_count": 94,
      "outputs": [
        {
          "output_type": "stream",
          "name": "stdout",
          "text": [
            "Model: \"sequential_6\"\n",
            "_________________________________________________________________\n",
            " Layer (type)                Output Shape              Param #   \n",
            "=================================================================\n",
            " conv2d_10 (Conv2D)          (None, 28, 28, 32)        320       \n",
            "                                                                 \n",
            " leaky_re_lu_26 (LeakyReLU)  (None, 28, 28, 32)        0         \n",
            "                                                                 \n",
            " max_pooling2d_4 (MaxPooling  (None, 14, 14, 32)       0         \n",
            " 2D)                                                             \n",
            "                                                                 \n",
            " conv2d_11 (Conv2D)          (None, 14, 14, 64)        18496     \n",
            "                                                                 \n",
            " leaky_re_lu_27 (LeakyReLU)  (None, 14, 14, 64)        0         \n",
            "                                                                 \n",
            " max_pooling2d_5 (MaxPooling  (None, 7, 7, 64)         0         \n",
            " 2D)                                                             \n",
            "                                                                 \n",
            " conv2d_12 (Conv2D)          (None, 7, 7, 128)         73856     \n",
            "                                                                 \n",
            " leaky_re_lu_28 (LeakyReLU)  (None, 7, 7, 128)         0         \n",
            "                                                                 \n",
            " max_pooling2d_6 (MaxPooling  (None, 4, 4, 128)        0         \n",
            " 2D)                                                             \n",
            "                                                                 \n",
            " flatten_16 (Flatten)        (None, 2048)              0         \n",
            "                                                                 \n",
            " dense_30 (Dense)            (None, 128)               262272    \n",
            "                                                                 \n",
            " leaky_re_lu_29 (LeakyReLU)  (None, 128)               0         \n",
            "                                                                 \n",
            " dropout (Dropout)           (None, 128)               0         \n",
            "                                                                 \n",
            " dense_31 (Dense)            (None, 10)                1290      \n",
            "                                                                 \n",
            "=================================================================\n",
            "Total params: 356,234\n",
            "Trainable params: 356,234\n",
            "Non-trainable params: 0\n",
            "_________________________________________________________________\n"
          ]
        },
        {
          "output_type": "stream",
          "name": "stderr",
          "text": [
            "/usr/local/lib/python3.9/dist-packages/keras/optimizers/legacy/adam.py:117: UserWarning: The `lr` argument is deprecated, use `learning_rate` instead.\n",
            "  super().__init__(name, **kwargs)\n"
          ]
        },
        {
          "output_type": "stream",
          "name": "stdout",
          "text": [
            "Epoch 1/20\n",
            "938/938 [==============================] - 84s 89ms/step - loss: 0.4604 - accuracy: 0.8324\n",
            "Epoch 2/20\n",
            "938/938 [==============================] - 92s 98ms/step - loss: 0.2867 - accuracy: 0.8952\n",
            "Epoch 3/20\n",
            "938/938 [==============================] - 89s 95ms/step - loss: 0.2460 - accuracy: 0.9096\n",
            "Epoch 4/20\n",
            "938/938 [==============================] - 83s 88ms/step - loss: 0.2120 - accuracy: 0.9215\n",
            "Epoch 5/20\n",
            "938/938 [==============================] - 82s 87ms/step - loss: 0.1886 - accuracy: 0.9308\n",
            "Epoch 6/20\n",
            "938/938 [==============================] - 83s 88ms/step - loss: 0.1688 - accuracy: 0.9370\n",
            "Epoch 7/20\n",
            "938/938 [==============================] - 83s 88ms/step - loss: 0.1512 - accuracy: 0.9440\n",
            "Epoch 8/20\n",
            "938/938 [==============================] - 83s 88ms/step - loss: 0.1349 - accuracy: 0.9491\n",
            "Epoch 9/20\n",
            "938/938 [==============================] - 83s 88ms/step - loss: 0.1204 - accuracy: 0.9544\n",
            "Epoch 10/20\n",
            "938/938 [==============================] - 82s 88ms/step - loss: 0.1050 - accuracy: 0.9606\n",
            "Epoch 11/20\n",
            "938/938 [==============================] - 83s 88ms/step - loss: 0.0956 - accuracy: 0.9632\n",
            "Epoch 12/20\n",
            "938/938 [==============================] - 83s 88ms/step - loss: 0.0840 - accuracy: 0.9685\n",
            "Epoch 13/20\n",
            "938/938 [==============================] - 82s 88ms/step - loss: 0.0778 - accuracy: 0.9703\n",
            "Epoch 14/20\n",
            "938/938 [==============================] - 83s 88ms/step - loss: 0.0696 - accuracy: 0.9730\n",
            "Epoch 15/20\n",
            "938/938 [==============================] - 83s 88ms/step - loss: 0.0631 - accuracy: 0.9761\n",
            "Epoch 16/20\n",
            "938/938 [==============================] - 83s 88ms/step - loss: 0.0587 - accuracy: 0.9775\n",
            "Epoch 17/20\n",
            "938/938 [==============================] - 83s 88ms/step - loss: 0.0548 - accuracy: 0.9790\n",
            "Epoch 18/20\n",
            "938/938 [==============================] - 82s 87ms/step - loss: 0.0503 - accuracy: 0.9807\n",
            "Epoch 19/20\n",
            "938/938 [==============================] - 83s 88ms/step - loss: 0.0476 - accuracy: 0.9820\n",
            "Epoch 20/20\n",
            "938/938 [==============================] - 82s 88ms/step - loss: 0.0466 - accuracy: 0.9825\n",
            "Test loss: 0.3870428800582886\n",
            "Test accuracy: 0.920199990272522\n"
          ]
        }
      ]
    }
  ]
}