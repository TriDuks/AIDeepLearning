{
  "cells": [
    {
      "cell_type": "markdown",
      "metadata": {
        "id": "view-in-github",
        "colab_type": "text"
      },
      "source": [
        "<a href=\"https://colab.research.google.com/github/TriDuks/AIXuLyAnh/blob/main/Class_Name.ipynb\" target=\"_parent\"><img src=\"https://colab.research.google.com/assets/colab-badge.svg\" alt=\"Open In Colab\"/></a>"
      ]
    },
    {
      "cell_type": "code",
      "execution_count": 1,
      "metadata": {
        "id": "1vUaTI1wPFH_"
      },
      "outputs": [],
      "source": [
        "#importing libraries\n",
        "import tensorflow as tf\n",
        "import numpy as np\n",
        "import pandas as pd\n",
        "import matplotlib.pyplot as plt\n",
        "from keras.preprocessing.image import ImageDataGenerator\n",
        "from keras.utils import to_categorical, load_img, img_to_array\n"
      ]
    },
    {
      "cell_type": "code",
      "execution_count": 2,
      "metadata": {
        "colab": {
          "base_uri": "https://localhost:8080/"
        },
        "id": "AFPWYN-1MtfD",
        "outputId": "820a73c7-4718-4996-aa64-6faed6385e87"
      },
      "outputs": [
        {
          "output_type": "stream",
          "name": "stdout",
          "text": [
            "Found 628 images belonging to 10 classes.\n"
          ]
        }
      ],
      "source": [
        "#Preprocessing để Training \n",
        "# Load ảnh, chia loại, định lại cỡ ảnh 30x40, rescale ảnh và định dạng ảnh về binary\n",
        "train_datagen = ImageDataGenerator(rescale = 1./255,\n",
        "                                    shear_range = 0.2,\n",
        "                                    zoom_range = 0.2,\n",
        "                                    horizontal_flip = True\n",
        "                                  )\n",
        "#train_datagen = ImageDataGenerator(rescale = 1./255)\n",
        "training_set = train_datagen.flow_from_directory('/content/drive/MyDrive/AI/Name_class/Training', \n",
        "                                                 target_size = (30,40), \n",
        "                                                 batch_size = 32, \n",
        "                                                 class_mode = 'categorical')"
      ]
    },
    {
      "cell_type": "code",
      "execution_count": 73,
      "metadata": {
        "colab": {
          "base_uri": "https://localhost:8080/"
        },
        "id": "Mb_QFWwLXFu_",
        "outputId": "f9919c66-8c2c-4fb6-ee95-27e4545f9060"
      },
      "outputs": [
        {
          "output_type": "stream",
          "name": "stdout",
          "text": [
            "Found 27 images belonging to 10 classes.\n"
          ]
        }
      ],
      "source": [
        "# Load ảnh, chia loại, định lại cỡ ảnh 30x40, rescale ảnh và định dạng ảnh về binary\n",
        "test_datagen = ImageDataGenerator(rescale = 1./255,\n",
        "                                    shear_range = 0.2,\n",
        "                                    zoom_range = 0.2,\n",
        "                                    horizontal_flip = True\n",
        "                                  )\n",
        "test_set = test_datagen.flow_from_directory('/content/drive/MyDrive/AI/Name_class/Test (1)', \n",
        "                                                \n",
        "                                                 target_size = (30,40), \n",
        "                                                 batch_size = 32, \n",
        "                                                class_mode = 'categorical')"
      ]
    },
    {
      "cell_type": "code",
      "execution_count": 43,
      "metadata": {
        "colab": {
          "base_uri": "https://localhost:8080/"
        },
        "id": "EKR64aJaRI4x",
        "outputId": "3f11ee03-740f-460c-9bad-40ecb0620445"
      },
      "outputs": [
        {
          "output_type": "execute_result",
          "data": {
            "text/plain": [
              "{'CPhi': 0,\n",
              " 'Chi': 1,\n",
              " 'Chuong': 2,\n",
              " 'NHuy': 3,\n",
              " 'Phong': 4,\n",
              " 'Thang': 5,\n",
              " 'Tri': 6,\n",
              " 'Tu': 7,\n",
              " 'Tuan': 8,\n",
              " 'VBinh': 9}"
            ]
          },
          "metadata": {},
          "execution_count": 43
        }
      ],
      "source": [
        "training_set.class_indices"
      ]
    },
    {
      "cell_type": "code",
      "execution_count": 44,
      "metadata": {
        "colab": {
          "base_uri": "https://localhost:8080/"
        },
        "id": "r3R-j15UXX_B",
        "outputId": "583e9ba1-a11a-42e3-ce08-6a8549ce4459"
      },
      "outputs": [
        {
          "output_type": "execute_result",
          "data": {
            "text/plain": [
              "{'CPhi': 0,\n",
              " 'Chi': 1,\n",
              " 'Chuong': 2,\n",
              " 'NHuy': 3,\n",
              " 'Phong': 4,\n",
              " 'Thang ': 5,\n",
              " 'Tri': 6,\n",
              " 'Tu': 7,\n",
              " 'Tuan': 8,\n",
              " 'VBinh': 9}"
            ]
          },
          "metadata": {},
          "execution_count": 44
        }
      ],
      "source": [
        "test_set.class_indices"
      ]
    },
    {
      "cell_type": "code",
      "source": [
        "len(training_set)"
      ],
      "metadata": {
        "colab": {
          "base_uri": "https://localhost:8080/"
        },
        "id": "BovJqe5NinkQ",
        "outputId": "830f3256-4f28-4aee-860b-9f384e13e18b"
      },
      "execution_count": 45,
      "outputs": [
        {
          "output_type": "execute_result",
          "data": {
            "text/plain": [
              "20"
            ]
          },
          "metadata": {},
          "execution_count": 45
        }
      ]
    },
    {
      "cell_type": "code",
      "source": [
        "len(test_set)"
      ],
      "metadata": {
        "id": "ObWJpzhXi2tY",
        "colab": {
          "base_uri": "https://localhost:8080/"
        },
        "outputId": "dfd7af49-b7cf-4351-a2f4-bd97d9478ee1"
      },
      "execution_count": 46,
      "outputs": [
        {
          "output_type": "execute_result",
          "data": {
            "text/plain": [
              "1"
            ]
          },
          "metadata": {},
          "execution_count": 46
        }
      ]
    },
    {
      "cell_type": "markdown",
      "metadata": {
        "id": "3eAC5FcBSl5H"
      },
      "source": [
        "# **TẠO MODEL BẰNG CNN**"
      ]
    },
    {
      "cell_type": "code",
      "execution_count": 69,
      "metadata": {
        "id": "U_DZ0J8_TA5s"
      },
      "outputs": [],
      "source": [
        "from keras.preprocessing.image import ImageDataGenerator\n",
        "from keras.models import Sequential\n",
        "from keras.layers import Dense, Flatten, Dropout, Conv2D, MaxPooling2D, Normalization\n",
        "import keras.backend as K\n",
        "from keras.layers import LeakyReLU\n",
        "from keras.callbacks import EarlyStopping\n",
        "from keras.utils import to_categorical\n",
        "from keras.optimizers import Adam\n"
      ]
    },
    {
      "cell_type": "code",
      "execution_count": 74,
      "metadata": {
        "colab": {
          "base_uri": "https://localhost:8080/"
        },
        "id": "D-boDxoWTOiP",
        "outputId": "0cb6596c-1f12-4a1e-b6cf-a4e499e3fcd0"
      },
      "outputs": [
        {
          "output_type": "stream",
          "name": "stdout",
          "text": [
            "Model: \"sequential_27\"\n",
            "_________________________________________________________________\n",
            " Layer (type)                Output Shape              Param #   \n",
            "=================================================================\n",
            " conv2d_81 (Conv2D)          (None, 30, 40, 32)        896       \n",
            "                                                                 \n",
            " leaky_re_lu_108 (LeakyReLU)  (None, 30, 40, 32)       0         \n",
            "                                                                 \n",
            " max_pooling2d_81 (MaxPoolin  (None, 15, 20, 32)       0         \n",
            " g2D)                                                            \n",
            "                                                                 \n",
            " conv2d_82 (Conv2D)          (None, 15, 20, 64)        18496     \n",
            "                                                                 \n",
            " dropout_27 (Dropout)        (None, 15, 20, 64)        0         \n",
            "                                                                 \n",
            " max_pooling2d_82 (MaxPoolin  (None, 8, 10, 64)        0         \n",
            " g2D)                                                            \n",
            "                                                                 \n",
            " conv2d_83 (Conv2D)          (None, 8, 10, 128)        73856     \n",
            "                                                                 \n",
            " leaky_re_lu_109 (LeakyReLU)  (None, 8, 10, 128)       0         \n",
            "                                                                 \n",
            " max_pooling2d_83 (MaxPoolin  (None, 4, 5, 128)        0         \n",
            " g2D)                                                            \n",
            "                                                                 \n",
            " flatten_27 (Flatten)        (None, 2560)              0         \n",
            "                                                                 \n",
            " dense_81 (Dense)            (None, 128)               327808    \n",
            "                                                                 \n",
            " leaky_re_lu_110 (LeakyReLU)  (None, 128)              0         \n",
            "                                                                 \n",
            " dense_82 (Dense)            (None, 32)                4128      \n",
            "                                                                 \n",
            " leaky_re_lu_111 (LeakyReLU)  (None, 32)               0         \n",
            "                                                                 \n",
            " dense_83 (Dense)            (None, 10)                330       \n",
            "                                                                 \n",
            "=================================================================\n",
            "Total params: 425,514\n",
            "Trainable params: 425,514\n",
            "Non-trainable params: 0\n",
            "_________________________________________________________________\n",
            "Epoch 1/80\n"
          ]
        },
        {
          "output_type": "stream",
          "name": "stderr",
          "text": [
            "<ipython-input-74-425260692110>:35: UserWarning: `Model.fit_generator` is deprecated and will be removed in a future version. Please use `Model.fit`, which supports generators.\n",
            "  a = model.fit_generator( training_set, validation_data=test_set, epochs=80, steps_per_epoch=len(training_set),\n"
          ]
        },
        {
          "output_type": "stream",
          "name": "stdout",
          "text": [
            "20/20 [==============================] - 5s 148ms/step - loss: 2.2611 - accuracy: 0.1019 - val_loss: 2.0480 - val_accuracy: 0.1852\n",
            "Epoch 2/80\n",
            "20/20 [==============================] - 2s 90ms/step - loss: 1.5910 - accuracy: 0.4602 - val_loss: 0.8946 - val_accuracy: 0.6667\n",
            "Epoch 3/80\n",
            "20/20 [==============================] - 2s 83ms/step - loss: 0.7238 - accuracy: 0.7564 - val_loss: 0.5870 - val_accuracy: 0.8519\n",
            "Epoch 4/80\n",
            "20/20 [==============================] - 2s 76ms/step - loss: 0.3822 - accuracy: 0.8901 - val_loss: 0.7030 - val_accuracy: 0.8148\n",
            "Epoch 5/80\n",
            "20/20 [==============================] - 1s 73ms/step - loss: 0.2400 - accuracy: 0.9331 - val_loss: 0.4406 - val_accuracy: 0.8889\n",
            "Epoch 6/80\n",
            "20/20 [==============================] - 1s 73ms/step - loss: 0.2099 - accuracy: 0.9459 - val_loss: 0.4308 - val_accuracy: 0.9259\n",
            "Epoch 7/80\n",
            "20/20 [==============================] - 1s 73ms/step - loss: 0.2342 - accuracy: 0.9172 - val_loss: 0.3852 - val_accuracy: 0.9259\n",
            "Epoch 8/80\n",
            "20/20 [==============================] - 1s 73ms/step - loss: 0.1572 - accuracy: 0.9538 - val_loss: 0.2450 - val_accuracy: 0.9630\n",
            "Epoch 9/80\n",
            "20/20 [==============================] - 1s 72ms/step - loss: 0.1169 - accuracy: 0.9650 - val_loss: 0.3730 - val_accuracy: 0.9259\n",
            "Epoch 10/80\n",
            "20/20 [==============================] - 3s 120ms/step - loss: 0.1127 - accuracy: 0.9650 - val_loss: 0.1910 - val_accuracy: 0.9259\n",
            "Epoch 11/80\n",
            "20/20 [==============================] - 1s 73ms/step - loss: 0.0742 - accuracy: 0.9777 - val_loss: 0.3959 - val_accuracy: 0.9630\n",
            "Epoch 12/80\n",
            "20/20 [==============================] - 1s 73ms/step - loss: 0.0645 - accuracy: 0.9857 - val_loss: 0.3177 - val_accuracy: 0.9259\n",
            "Epoch 13/80\n",
            "20/20 [==============================] - 1s 75ms/step - loss: 0.0525 - accuracy: 0.9873 - val_loss: 0.3020 - val_accuracy: 0.9259\n",
            "Epoch 14/80\n",
            "20/20 [==============================] - 1s 74ms/step - loss: 0.0666 - accuracy: 0.9873 - val_loss: 0.2893 - val_accuracy: 0.9259\n",
            "Epoch 15/80\n",
            "20/20 [==============================] - 2s 76ms/step - loss: 0.0492 - accuracy: 0.9825 - val_loss: 0.4786 - val_accuracy: 0.9259\n",
            "Epoch 16/80\n",
            "20/20 [==============================] - 1s 73ms/step - loss: 0.0908 - accuracy: 0.9761 - val_loss: 0.3978 - val_accuracy: 0.9259\n",
            "Epoch 17/80\n",
            "20/20 [==============================] - 2s 92ms/step - loss: 0.0405 - accuracy: 0.9857 - val_loss: 0.0759 - val_accuracy: 0.9630\n",
            "Epoch 18/80\n",
            "20/20 [==============================] - 1s 73ms/step - loss: 0.0601 - accuracy: 0.9841 - val_loss: 0.3644 - val_accuracy: 0.9630\n",
            "Epoch 19/80\n",
            "20/20 [==============================] - 1s 72ms/step - loss: 0.0240 - accuracy: 0.9952 - val_loss: 0.2612 - val_accuracy: 0.9630\n",
            "Epoch 20/80\n",
            "20/20 [==============================] - 2s 75ms/step - loss: 0.0249 - accuracy: 0.9920 - val_loss: 0.2001 - val_accuracy: 0.9630\n",
            "Epoch 21/80\n",
            "20/20 [==============================] - 1s 73ms/step - loss: 0.0264 - accuracy: 0.9873 - val_loss: 0.3271 - val_accuracy: 0.9630\n",
            "Epoch 22/80\n",
            "20/20 [==============================] - 2s 87ms/step - loss: 0.0663 - accuracy: 0.9761 - val_loss: 0.5325 - val_accuracy: 0.9259\n",
            "Epoch 23/80\n",
            "20/20 [==============================] - 2s 90ms/step - loss: 0.0848 - accuracy: 0.9745 - val_loss: 0.1069 - val_accuracy: 0.9630\n",
            "Epoch 24/80\n",
            "20/20 [==============================] - 2s 90ms/step - loss: 0.0754 - accuracy: 0.9761 - val_loss: 0.3821 - val_accuracy: 0.9259\n",
            "Epoch 25/80\n",
            "20/20 [==============================] - 2s 93ms/step - loss: 0.0427 - accuracy: 0.9793 - val_loss: 0.1029 - val_accuracy: 0.9630\n",
            "Epoch 26/80\n",
            "20/20 [==============================] - 1s 73ms/step - loss: 0.0364 - accuracy: 0.9920 - val_loss: 0.3868 - val_accuracy: 0.9630\n",
            "Epoch 27/80\n",
            "20/20 [==============================] - 1s 74ms/step - loss: 0.0183 - accuracy: 0.9952 - val_loss: 0.3890 - val_accuracy: 0.9630\n",
            "Epoch 28/80\n",
            "20/20 [==============================] - 2s 85ms/step - loss: 0.0176 - accuracy: 0.9984 - val_loss: 0.1880 - val_accuracy: 0.9630\n",
            "Epoch 29/80\n",
            "20/20 [==============================] - 2s 98ms/step - loss: 0.0167 - accuracy: 0.9936 - val_loss: 0.6179 - val_accuracy: 0.9259\n",
            "Epoch 30/80\n",
            "20/20 [==============================] - 2s 89ms/step - loss: 0.0221 - accuracy: 0.9873 - val_loss: 0.2742 - val_accuracy: 0.9630\n",
            "Epoch 31/80\n",
            "20/20 [==============================] - 1s 73ms/step - loss: 0.0177 - accuracy: 0.9920 - val_loss: 0.5808 - val_accuracy: 0.9259\n",
            "Epoch 32/80\n",
            "20/20 [==============================] - 2s 75ms/step - loss: 0.0125 - accuracy: 0.9968 - val_loss: 0.3676 - val_accuracy: 0.9259\n",
            "Epoch 33/80\n",
            "20/20 [==============================] - 1s 73ms/step - loss: 0.0159 - accuracy: 0.9952 - val_loss: 0.2236 - val_accuracy: 0.9630\n",
            "Epoch 34/80\n",
            "20/20 [==============================] - 2s 75ms/step - loss: 0.0111 - accuracy: 0.9984 - val_loss: 0.1380 - val_accuracy: 0.9630\n",
            "Epoch 35/80\n",
            "20/20 [==============================] - 2s 75ms/step - loss: 0.0083 - accuracy: 0.9968 - val_loss: 0.6604 - val_accuracy: 0.9630\n",
            "Epoch 36/80\n",
            "20/20 [==============================] - 2s 82ms/step - loss: 0.0097 - accuracy: 0.9968 - val_loss: 0.2040 - val_accuracy: 0.9630\n",
            "Epoch 37/80\n",
            "20/20 [==============================] - 2s 89ms/step - loss: 0.0045 - accuracy: 0.9984 - val_loss: 0.5593 - val_accuracy: 0.9630\n",
            "Epoch 38/80\n",
            "20/20 [==============================] - 2s 83ms/step - loss: 0.0115 - accuracy: 0.9968 - val_loss: 0.3587 - val_accuracy: 0.9630\n",
            "Epoch 39/80\n",
            "20/20 [==============================] - 2s 76ms/step - loss: 0.0165 - accuracy: 0.9920 - val_loss: 0.6434 - val_accuracy: 0.9630\n",
            "Epoch 40/80\n",
            "20/20 [==============================] - 2s 76ms/step - loss: 0.0082 - accuracy: 0.9968 - val_loss: 0.2072 - val_accuracy: 0.9630\n",
            "Epoch 41/80\n",
            "20/20 [==============================] - 2s 75ms/step - loss: 0.0076 - accuracy: 0.9968 - val_loss: 0.3254 - val_accuracy: 0.9630\n",
            "Epoch 42/80\n",
            "20/20 [==============================] - 2s 86ms/step - loss: 0.0201 - accuracy: 0.9952 - val_loss: 0.4827 - val_accuracy: 0.9630\n",
            "Epoch 43/80\n",
            "20/20 [==============================] - 2s 89ms/step - loss: 0.0104 - accuracy: 0.9984 - val_loss: 0.3890 - val_accuracy: 0.9630\n",
            "Epoch 44/80\n",
            "20/20 [==============================] - 2s 80ms/step - loss: 0.0054 - accuracy: 0.9984 - val_loss: 0.3478 - val_accuracy: 0.9630\n",
            "Epoch 45/80\n",
            "20/20 [==============================] - 2s 76ms/step - loss: 0.0042 - accuracy: 1.0000 - val_loss: 0.2491 - val_accuracy: 0.9630\n",
            "Epoch 46/80\n",
            "20/20 [==============================] - 2s 75ms/step - loss: 0.0048 - accuracy: 0.9984 - val_loss: 0.5183 - val_accuracy: 0.9630\n",
            "Epoch 47/80\n",
            "20/20 [==============================] - 2s 74ms/step - loss: 0.0027 - accuracy: 1.0000 - val_loss: 0.5685 - val_accuracy: 0.9259\n",
            "Epoch 48/80\n",
            "20/20 [==============================] - 2s 77ms/step - loss: 8.8809e-04 - accuracy: 1.0000 - val_loss: 0.3149 - val_accuracy: 0.9630\n",
            "Epoch 49/80\n",
            "20/20 [==============================] - 2s 78ms/step - loss: 0.0012 - accuracy: 1.0000 - val_loss: 0.6265 - val_accuracy: 0.9630\n",
            "Epoch 50/80\n",
            "20/20 [==============================] - 2s 92ms/step - loss: 0.0024 - accuracy: 0.9984 - val_loss: 0.7137 - val_accuracy: 0.9259\n",
            "Epoch 51/80\n",
            "20/20 [==============================] - 2s 89ms/step - loss: 0.0045 - accuracy: 0.9968 - val_loss: 0.0029 - val_accuracy: 1.0000\n",
            "Epoch 52/80\n",
            "20/20 [==============================] - 2s 79ms/step - loss: 0.0261 - accuracy: 0.9936 - val_loss: 0.2381 - val_accuracy: 0.9630\n",
            "Epoch 53/80\n",
            "20/20 [==============================] - 2s 77ms/step - loss: 0.0901 - accuracy: 0.9745 - val_loss: 0.8818 - val_accuracy: 0.9259\n",
            "Epoch 54/80\n",
            "20/20 [==============================] - 2s 81ms/step - loss: 0.0812 - accuracy: 0.9729 - val_loss: 0.3174 - val_accuracy: 0.9630\n",
            "Epoch 55/80\n",
            "20/20 [==============================] - 2s 77ms/step - loss: 0.0221 - accuracy: 0.9968 - val_loss: 0.6134 - val_accuracy: 0.9259\n",
            "Epoch 56/80\n",
            "20/20 [==============================] - 2s 87ms/step - loss: 0.0259 - accuracy: 0.9920 - val_loss: 0.3085 - val_accuracy: 0.9630\n",
            "Epoch 57/80\n",
            "20/20 [==============================] - 2s 93ms/step - loss: 0.0131 - accuracy: 0.9952 - val_loss: 0.5842 - val_accuracy: 0.9259\n",
            "Epoch 58/80\n",
            "20/20 [==============================] - 2s 79ms/step - loss: 0.0088 - accuracy: 0.9984 - val_loss: 0.4910 - val_accuracy: 0.9259\n",
            "Epoch 59/80\n",
            "20/20 [==============================] - 2s 80ms/step - loss: 0.0047 - accuracy: 1.0000 - val_loss: 0.4308 - val_accuracy: 0.9630\n",
            "Epoch 60/80\n",
            "20/20 [==============================] - 2s 79ms/step - loss: 0.0178 - accuracy: 0.9968 - val_loss: 0.3333 - val_accuracy: 0.9630\n",
            "Epoch 61/80\n",
            "20/20 [==============================] - 1s 72ms/step - loss: 0.0149 - accuracy: 0.9952 - val_loss: 0.3777 - val_accuracy: 0.9630\n",
            "Epoch 62/80\n",
            "20/20 [==============================] - 2s 75ms/step - loss: 0.0074 - accuracy: 0.9984 - val_loss: 0.1629 - val_accuracy: 0.9630\n",
            "Epoch 63/80\n",
            "20/20 [==============================] - 1s 74ms/step - loss: 0.0029 - accuracy: 1.0000 - val_loss: 0.4513 - val_accuracy: 0.9630\n",
            "Epoch 64/80\n",
            "20/20 [==============================] - 2s 92ms/step - loss: 0.0025 - accuracy: 0.9984 - val_loss: 0.6278 - val_accuracy: 0.9259\n",
            "Epoch 65/80\n",
            "20/20 [==============================] - 2s 78ms/step - loss: 0.0030 - accuracy: 0.9984 - val_loss: 0.2890 - val_accuracy: 0.9630\n",
            "Epoch 66/80\n",
            "20/20 [==============================] - 2s 76ms/step - loss: 0.0027 - accuracy: 1.0000 - val_loss: 0.3632 - val_accuracy: 0.9630\n",
            "Epoch 67/80\n",
            "20/20 [==============================] - 2s 75ms/step - loss: 6.1195e-04 - accuracy: 1.0000 - val_loss: 0.4686 - val_accuracy: 0.9630\n",
            "Epoch 68/80\n",
            "20/20 [==============================] - 2s 77ms/step - loss: 2.9524e-04 - accuracy: 1.0000 - val_loss: 0.6339 - val_accuracy: 0.9630\n",
            "Epoch 69/80\n",
            "20/20 [==============================] - 2s 75ms/step - loss: 3.2510e-04 - accuracy: 1.0000 - val_loss: 0.6006 - val_accuracy: 0.9259\n",
            "Epoch 70/80\n",
            "20/20 [==============================] - 2s 86ms/step - loss: 3.5207e-04 - accuracy: 1.0000 - val_loss: 0.5172 - val_accuracy: 0.9630\n",
            "Epoch 71/80\n",
            "20/20 [==============================] - 2s 96ms/step - loss: 0.0181 - accuracy: 0.9936 - val_loss: 0.6391 - val_accuracy: 0.9259\n",
            "Epoch 72/80\n",
            "20/20 [==============================] - 2s 90ms/step - loss: 0.0642 - accuracy: 0.9777 - val_loss: 0.5966 - val_accuracy: 0.8889\n",
            "Epoch 73/80\n",
            "20/20 [==============================] - 2s 88ms/step - loss: 0.0301 - accuracy: 0.9889 - val_loss: 0.9018 - val_accuracy: 0.9259\n",
            "Epoch 74/80\n",
            "20/20 [==============================] - 2s 78ms/step - loss: 0.0440 - accuracy: 0.9904 - val_loss: 0.6364 - val_accuracy: 0.9259\n",
            "Epoch 75/80\n",
            "20/20 [==============================] - 2s 75ms/step - loss: 0.0274 - accuracy: 0.9904 - val_loss: 0.6674 - val_accuracy: 0.9259\n",
            "Epoch 76/80\n",
            "20/20 [==============================] - 2s 75ms/step - loss: 0.0215 - accuracy: 0.9904 - val_loss: 0.1502 - val_accuracy: 0.9630\n",
            "Epoch 77/80\n",
            "20/20 [==============================] - 2s 75ms/step - loss: 0.0310 - accuracy: 0.9873 - val_loss: 0.5040 - val_accuracy: 0.9259\n",
            "Epoch 78/80\n",
            "20/20 [==============================] - 2s 87ms/step - loss: 0.0289 - accuracy: 0.9873 - val_loss: 0.2904 - val_accuracy: 0.9630\n",
            "Epoch 79/80\n",
            "20/20 [==============================] - 2s 76ms/step - loss: 0.0087 - accuracy: 0.9968 - val_loss: 0.5426 - val_accuracy: 0.9259\n",
            "Epoch 80/80\n",
            "20/20 [==============================] - 2s 83ms/step - loss: 0.0120 - accuracy: 0.9952 - val_loss: 0.5046 - val_accuracy: 0.9630\n"
          ]
        }
      ],
      "source": [
        "# Tạo model\n",
        "model = Sequential()\n",
        "#Thêm lớp chuyển đổi\n",
        "model.add(tf.keras.layers.Conv2D(32,(3,3), activation='relu', input_shape=[30,40,3],padding='same')) #3 kênh màu RGB\n",
        "model.add(LeakyReLU(alpha=0.1))\n",
        "#Pooling\n",
        "model.add(MaxPooling2D(pool_size=(2,2) , padding = 'same'))\n",
        "#Tích chập lớp thứ 2\n",
        "model.add(Conv2D(64,(3,3), activation = 'relu',padding='same'))\n",
        "model.add(Dropout( 0.1))\n",
        "model.add(MaxPooling2D(pool_size=(2,2) , padding = 'same'))\n",
        "\n",
        "model.add(Conv2D(128,(3,3), activation = 'relu',padding='same'))\n",
        "model.add(LeakyReLU(alpha = 0.2))\n",
        "model.add(MaxPooling2D(pool_size=(2,2) , padding = 'same'))\n",
        "#Làm phẳng\n",
        "model.add(Flatten())\n",
        "  # ANN Layer\n",
        "#Connect\n",
        "model.add(Dense(128, activation='relu'))\n",
        "model.add(LeakyReLU(alpha = 0.2))\n",
        "model.add(Dense(32, activation='relu'))\n",
        "model.add(LeakyReLU(alpha = 0.1))\n",
        "\n",
        "#Output\n",
        "model.add(Dense(10, activation='softmax'))\n",
        "model.summary()\n",
        "\n",
        "# Thiết lập thông số\n",
        "from keras.optimizers import Adam\n",
        "model.compile( loss = 'categorical_crossentropy', optimizer='Adam', metrics = ['accuracy'])\n",
        "# Huấn luyện\n",
        "# fit the model\n",
        "# Run the cell. It will take some time to execute\n",
        "a = model.fit_generator( training_set, validation_data=test_set, epochs=80, steps_per_epoch=len(training_set), \n",
        "                        validation_steps=len(test_set)\n",
        ")"
      ]
    },
    {
      "cell_type": "code",
      "execution_count": 75,
      "metadata": {
        "id": "LM0dUBrHV1HR"
      },
      "outputs": [],
      "source": [
        "# Thiết lập thông số\n",
        "from keras.optimizers import Adam\n",
        "model.compile( loss = 'categorical_crossentropy', optimizer=Adam(), metrics = ['accuracy'])\n"
      ]
    },
    {
      "cell_type": "code",
      "execution_count": null,
      "metadata": {
        "id": "Vb6qe55DV4rd"
      },
      "outputs": [],
      "source": [
        "# Huấn luyện\n",
        "# fit the model\n",
        "# Run the cell. It will take some time to execute\n",
        "a = model.fit_generator( training_set, validation_data=test_set, epochs=80, steps_per_epoch=len(training_set), \n",
        "                        validation_steps=len(test_set)\n",
        ")\n"
      ]
    },
    {
      "cell_type": "code",
      "execution_count": 77,
      "metadata": {
        "colab": {
          "base_uri": "https://localhost:8080/"
        },
        "id": "5aojTTY4cV-l",
        "outputId": "b56d44aa-6d12-437f-a85f-eebb36e5df23"
      },
      "outputs": [
        {
          "output_type": "stream",
          "name": "stdout",
          "text": [
            "Test loss: 0.6282474398612976\n",
            "Test accuracy: 0.9259259104728699\n"
          ]
        }
      ],
      "source": [
        "# Model evaluation\n",
        "test_loss, test_acc = model.evaluate(test_set, verbose=False)\n",
        "print(\"Test loss:\", test_loss)\n",
        "print(\"Test accuracy:\", test_acc)"
      ]
    },
    {
      "cell_type": "code",
      "execution_count": null,
      "metadata": {
        "colab": {
          "base_uri": "https://localhost:8080/"
        },
        "id": "rsgLCwAWqdjE",
        "outputId": "037c0e8f-c5e7-423a-ad8b-6b42415813e4"
      },
      "outputs": [
        {
          "output_type": "stream",
          "name": "stderr",
          "text": [
            "<ipython-input-135-467eccc537b7>:1: UserWarning: `Model.predict_generator` is deprecated and will be removed in a future version. Please use `Model.predict`, which supports generators.\n",
            "  y_pred = model.predict_generator(test_set)\n"
          ]
        },
        {
          "output_type": "execute_result",
          "data": {
            "text/plain": [
              "array([[False, False, False,  True, False, False, False, False, False,\n",
              "        False],\n",
              "       [False, False, False, False, False, False, False, False,  True,\n",
              "        False],\n",
              "       [ True, False, False, False, False, False, False, False, False,\n",
              "        False],\n",
              "       [False, False, False, False,  True, False, False, False, False,\n",
              "        False],\n",
              "       [False, False, False, False, False, False,  True, False, False,\n",
              "        False],\n",
              "       [False,  True, False, False, False, False, False, False, False,\n",
              "        False],\n",
              "       [False, False,  True, False, False, False, False, False, False,\n",
              "        False],\n",
              "       [False, False, False, False, False, False, False,  True, False,\n",
              "        False],\n",
              "       [False, False, False, False, False,  True, False, False, False,\n",
              "        False],\n",
              "       [False, False, False, False, False, False, False, False, False,\n",
              "         True]])"
            ]
          },
          "metadata": {},
          "execution_count": 135
        }
      ],
      "source": [
        "y_pred = model.predict_generator(test_set)\n",
        "y_pred_class = y_pred > 0.5\n",
        "y_pred_class"
      ]
    },
    {
      "cell_type": "code",
      "execution_count": null,
      "metadata": {
        "colab": {
          "base_uri": "https://localhost:8080/"
        },
        "id": "v46Pa27ALDM2",
        "outputId": "62ef394d-8047-4825-df3b-bcd371a07515"
      },
      "outputs": [
        {
          "data": {
            "text/plain": [
              "{'CPhi': 0,\n",
              " 'Chi': 1,\n",
              " 'Chuong': 2,\n",
              " 'NHuy': 3,\n",
              " 'Phong': 4,\n",
              " 'Thang': 5,\n",
              " 'Tri': 6,\n",
              " 'Tu': 7,\n",
              " 'Tuan': 8,\n",
              " 'VBinh': 9}"
            ]
          },
          "execution_count": 22,
          "metadata": {},
          "output_type": "execute_result"
        }
      ],
      "source": [
        "training_set.class_indices"
      ]
    },
    {
      "cell_type": "code",
      "execution_count": 78,
      "metadata": {
        "colab": {
          "base_uri": "https://localhost:8080/",
          "height": 860
        },
        "id": "GSF3LTLHcfiU",
        "outputId": "fc58d600-b72e-43aa-e6f1-b0c3e97bc230"
      },
      "outputs": [
        {
          "output_type": "display_data",
          "data": {
            "text/plain": [
              "<Figure size 640x480 with 1 Axes>"
            ],
            "image/png": "[encoded data removed]"
          },
          "metadata": {}
        },
        {
          "output_type": "display_data",
          "data": {
            "text/plain": [
              "<Figure size 640x480 with 1 Axes>"
            ],
            "image/png": "[encoded data removed]"
          },
          "metadata": {}
        },
        {
          "output_type": "display_data",
          "data": {
            "text/plain": [
              "<Figure size 640x480 with 0 Axes>"
            ]
          },
          "metadata": {}
        }
      ],
      "source": [
        "import matplotlib.pyplot as plt\n",
        "# plot the loss\n",
        "plt.plot(a.history['loss'], label='train loss')\n",
        "plt.plot(a.history['val_loss'], label='val loss')\n",
        "plt.legend()\n",
        "plt.show()\n",
        "plt.savefig('LossVal_loss')\n",
        "\n",
        "# plot the accuracy\n",
        "plt.plot(a.history['accuracy'], label='train acc')\n",
        "plt.plot(a.history['val_accuracy'], label='val acc')\n",
        "plt.legend()\n",
        "plt.show()\n",
        "plt.savefig('AccVal_acc')"
      ]
    },
    {
      "cell_type": "code",
      "execution_count": 79,
      "metadata": {
        "id": "PO1-BL5MmKqV"
      },
      "outputs": [],
      "source": [
        "# Lưu a h5 file\n",
        "from tensorflow.keras.models import load_model\n",
        "\n",
        "model.save('/content/drive/MyDrive/AI/Name_class/model_inception.h5')"
      ]
    },
    {
      "cell_type": "code",
      "execution_count": 80,
      "metadata": {
        "colab": {
          "base_uri": "https://localhost:8080/"
        },
        "id": "UdwB1grCsBI1",
        "outputId": "5833ef4e-017f-4463-a841-ed0c65fccc56"
      },
      "outputs": [
        {
          "output_type": "execute_result",
          "data": {
            "text/plain": [
              "<keras.engine.sequential.Sequential at 0x7f2e710756d0>"
            ]
          },
          "metadata": {},
          "execution_count": 80
        }
      ],
      "source": [
        "\n",
        "from tensorflow.keras.preprocessing import image\n",
        "model=load_model('/content/drive/MyDrive/AI/Name_class/model_inception.h5')\n",
        "model"
      ]
    },
    {
      "cell_type": "code",
      "source": [
        "import os\n",
        "os.chdir('/content/drive/MyDrive/AI/Name_class/Valid')"
      ],
      "metadata": {
        "id": "ypWbT-EgRfsf"
      },
      "execution_count": 81,
      "outputs": []
    },
    {
      "cell_type": "code",
      "source": [
        "!ls"
      ],
      "metadata": {
        "id": "kIeT1VZNSNpt",
        "colab": {
          "base_uri": "https://localhost:8080/"
        },
        "outputId": "bf8dc66b-0977-43d8-aa07-f9c63aea9419"
      },
      "execution_count": 82,
      "outputs": [
        {
          "output_type": "stream",
          "name": "stdout",
          "text": [
            "AccVal_acc.png\tAnh1.jpg  Anh4.jpg  Anh7.jpg  AnhME.jpg\n",
            "Anh10.jpg\tAnh2.jpg  Anh5.jpg  Anh8.jpg  LossVal_loss.png\n",
            "Anh11.jpg\tAnh3.jpg  Anh6.jpg  Anh9.jpg\n"
          ]
        }
      ]
    },
    {
      "cell_type": "markdown",
      "source": [
        "# **CHẠY THỬ NGHIỆM**"
      ],
      "metadata": {
        "id": "uBYQSYqLZbbJ"
      }
    },
    {
      "cell_type": "code",
      "source": [
        "import matplotlib.pyplot as plt\n",
        "from keras.utils import to_categorical, load_img, img_to_array\n",
        "img_data = load_img('/content/drive/MyDrive/AI/Name_class/Valid/Anh9.jpg')\n",
        "img_data = img_to_array(img_data)\n",
        "plt.imshow(img_data/255)"
      ],
      "metadata": {
        "colab": {
          "base_uri": "https://localhost:8080/",
          "height": 448
        },
        "id": "FgokRbVXZSO4",
        "outputId": "9036a6f4-97b4-446e-a0e8-f93e9c7ea4a8"
      },
      "execution_count": 83,
      "outputs": [
        {
          "output_type": "execute_result",
          "data": {
            "text/plain": [
              "<matplotlib.image.AxesImage at 0x7f2e5817ac40>"
            ]
          },
          "metadata": {},
          "execution_count": 83
        },
        {
          "output_type": "display_data",
          "data": {
            "text/plain": [
              "<Figure size 640x480 with 1 Axes>"
            ],
            "image/png": "[encoded data removed]"
          },
          "metadata": {}
        }
      ]
    },
    {
      "cell_type": "code",
      "execution_count": 84,
      "metadata": {
        "colab": {
          "base_uri": "https://localhost:8080/",
          "height": 1000
        },
        "id": "q3GD_5ecnNsb",
        "outputId": "c9a1b069-37ae-44a7-c990-6afd456a8c2b"
      },
      "outputs": [
        {
          "output_type": "stream",
          "name": "stdout",
          "text": [
            "Chọn image : AnhME\n",
            "1/1 [==============================] - 0s 224ms/step\n",
            "[[0. 0. 0. 0. 0. 0. 1. 0. 0. 0.]]\n",
            "Tri\n",
            "Chọn image : Anh11\n",
            "1/1 [==============================] - 0s 22ms/step\n",
            "[[0. 0. 1. 0. 0. 0. 0. 0. 0. 0.]]\n",
            "Chuong\n",
            "Chọn image : Anh11\n",
            "1/1 [==============================] - 0s 19ms/step\n",
            "[[0. 0. 1. 0. 0. 0. 0. 0. 0. 0.]]\n",
            "Chuong\n",
            "Chọn image : Anh7\n",
            "1/1 [==============================] - 0s 21ms/step\n",
            "[[0. 0. 0. 0. 0. 0. 0. 1. 0. 0.]]\n",
            "Tu\n",
            "Chọn image : Anh9\n",
            "1/1 [==============================] - 0s 20ms/step\n",
            "[[0. 0. 0. 0. 0. 0. 0. 0. 1. 0.]]\n",
            "Tuan\n"
          ]
        },
        {
          "output_type": "error",
          "ename": "KeyboardInterrupt",
          "evalue": "ignored",
          "traceback": [
            "\u001b[0;31m---------------------------------------------------------------------------\u001b[0m",
            "\u001b[0;31mKeyboardInterrupt\u001b[0m                         Traceback (most recent call last)",
            "\u001b[0;32m<ipython-input-84-bfea56d7021c>\u001b[0m in \u001b[0;36m<cell line: 4>\u001b[0;34m()\u001b[0m\n\u001b[1;32m      2\u001b[0m \u001b[0;32mfrom\u001b[0m \u001b[0mkeras\u001b[0m\u001b[0;34m.\u001b[0m\u001b[0mpreprocessing\u001b[0m \u001b[0;32mimport\u001b[0m \u001b[0mimage\u001b[0m\u001b[0;34m\u001b[0m\u001b[0;34m\u001b[0m\u001b[0m\n\u001b[1;32m      3\u001b[0m \u001b[0;32mwhile\u001b[0m \u001b[0;36m1\u001b[0m \u001b[0;34m:\u001b[0m\u001b[0;34m\u001b[0m\u001b[0;34m\u001b[0m\u001b[0m\n\u001b[0;32m----> 4\u001b[0;31m  \u001b[0mch\u001b[0m \u001b[0;34m=\u001b[0m \u001b[0minput\u001b[0m\u001b[0;34m(\u001b[0m\u001b[0;34m'Chọn'\u001b[0m \u001b[0;34m' image : '\u001b[0m\u001b[0;34m)\u001b[0m\u001b[0;34m\u001b[0m\u001b[0;34m\u001b[0m\u001b[0m\n\u001b[0m\u001b[1;32m      5\u001b[0m  \u001b[0;32mif\u001b[0m \u001b[0;34m(\u001b[0m\u001b[0mch\u001b[0m\u001b[0;34m==\u001b[0m\u001b[0;34m'-'\u001b[0m\u001b[0;34m)\u001b[0m\u001b[0;34m:\u001b[0m\u001b[0;34m\u001b[0m\u001b[0;34m\u001b[0m\u001b[0m\n\u001b[1;32m      6\u001b[0m      \u001b[0;32mbreak\u001b[0m\u001b[0;34m\u001b[0m\u001b[0;34m\u001b[0m\u001b[0m\n",
            "\u001b[0;32m/usr/local/lib/python3.9/dist-packages/ipykernel/kernelbase.py\u001b[0m in \u001b[0;36mraw_input\u001b[0;34m(self, prompt)\u001b[0m\n\u001b[1;32m    849\u001b[0m                 \u001b[0;34m\"raw_input was called, but this frontend does not support input requests.\"\u001b[0m\u001b[0;34m\u001b[0m\u001b[0;34m\u001b[0m\u001b[0m\n\u001b[1;32m    850\u001b[0m             )\n\u001b[0;32m--> 851\u001b[0;31m         return self._input_request(str(prompt),\n\u001b[0m\u001b[1;32m    852\u001b[0m             \u001b[0mself\u001b[0m\u001b[0;34m.\u001b[0m\u001b[0m_parent_ident\u001b[0m\u001b[0;34m,\u001b[0m\u001b[0;34m\u001b[0m\u001b[0;34m\u001b[0m\u001b[0m\n\u001b[1;32m    853\u001b[0m             \u001b[0mself\u001b[0m\u001b[0;34m.\u001b[0m\u001b[0m_parent_header\u001b[0m\u001b[0;34m,\u001b[0m\u001b[0;34m\u001b[0m\u001b[0;34m\u001b[0m\u001b[0m\n",
            "\u001b[0;32m/usr/local/lib/python3.9/dist-packages/ipykernel/kernelbase.py\u001b[0m in \u001b[0;36m_input_request\u001b[0;34m(self, prompt, ident, parent, password)\u001b[0m\n\u001b[1;32m    893\u001b[0m             \u001b[0;32mexcept\u001b[0m \u001b[0mKeyboardInterrupt\u001b[0m\u001b[0;34m:\u001b[0m\u001b[0;34m\u001b[0m\u001b[0;34m\u001b[0m\u001b[0m\n\u001b[1;32m    894\u001b[0m                 \u001b[0;31m# re-raise KeyboardInterrupt, to truncate traceback\u001b[0m\u001b[0;34m\u001b[0m\u001b[0;34m\u001b[0m\u001b[0m\n\u001b[0;32m--> 895\u001b[0;31m                 \u001b[0;32mraise\u001b[0m \u001b[0mKeyboardInterrupt\u001b[0m\u001b[0;34m(\u001b[0m\u001b[0;34m\"Interrupted by user\"\u001b[0m\u001b[0;34m)\u001b[0m \u001b[0;32mfrom\u001b[0m \u001b[0;32mNone\u001b[0m\u001b[0;34m\u001b[0m\u001b[0;34m\u001b[0m\u001b[0m\n\u001b[0m\u001b[1;32m    896\u001b[0m             \u001b[0;32mexcept\u001b[0m \u001b[0mException\u001b[0m \u001b[0;32mas\u001b[0m \u001b[0me\u001b[0m\u001b[0;34m:\u001b[0m\u001b[0;34m\u001b[0m\u001b[0;34m\u001b[0m\u001b[0m\n\u001b[1;32m    897\u001b[0m                 \u001b[0mself\u001b[0m\u001b[0;34m.\u001b[0m\u001b[0mlog\u001b[0m\u001b[0;34m.\u001b[0m\u001b[0mwarning\u001b[0m\u001b[0;34m(\u001b[0m\u001b[0;34m\"Invalid Message:\"\u001b[0m\u001b[0;34m,\u001b[0m \u001b[0mexc_info\u001b[0m\u001b[0;34m=\u001b[0m\u001b[0;32mTrue\u001b[0m\u001b[0;34m)\u001b[0m\u001b[0;34m\u001b[0m\u001b[0;34m\u001b[0m\u001b[0m\n",
            "\u001b[0;31mKeyboardInterrupt\u001b[0m: Interrupted by user"
          ]
        },
        {
          "output_type": "display_data",
          "data": {
            "text/plain": [
              "<Figure size 640x480 with 1 Axes>"
            ],
            "image/png": "[encoded data removed]"
          },
          "metadata": {}
        }
      ],
      "source": [
        "import numpy as np\n",
        "from keras.preprocessing import image\n",
        "while 1 :\n",
        " ch = input('Chọn' ' image : ')\n",
        " if (ch=='-'):\n",
        "     break\n",
        " else:\n",
        "   try: \n",
        "     test_image = load_img(\"/content/drive/MyDrive/AI/Name_class/Valid/{}.jpg\".format(ch),\n",
        "                             target_size=(30,40)) #Scale\n",
        "     test_image = img_to_array(test_image)\n",
        "     plt.imshow(test_image/255)\n",
        "     test_image = np.expand_dims(test_image,axis=0)\n",
        "     result = model.predict(test_image)\n",
        "     training_set.class_indices\n",
        "     print(result)\n",
        "     x=0\n",
        "     c=0\n",
        "     i=0\n",
        "     while (i<10):\n",
        "       if result[0][i]>=x:\n",
        "         x=result[0][i]\n",
        "         c=i\n",
        "        \n",
        "       i=i+1\n",
        "     if (x==0 and c==9) :\n",
        "         c=10\n",
        "     if c == 0:\n",
        "       prediction = 'CPhi'\n",
        "     elif c == 1:\n",
        "       prediction = 'Chi'\n",
        "     elif c == 2:\n",
        "       prediction = 'Chuong'\n",
        "     elif c == 3:\n",
        "       prediction = 'NHuy'\n",
        "     elif c == 4:\n",
        "       prediction = 'Phong'\n",
        "     elif c==5:\n",
        "       prediction ='Thang'\n",
        "     elif c == 6:\n",
        "       prediction = 'Tri'\n",
        "     elif c == 7:\n",
        "       prediction = 'Tu'\n",
        "     elif c == 8:\n",
        "       prediction = 'Tuan'\n",
        "     elif c==9:\n",
        "       prediction ='VBinh'\n",
        "           \n",
        "     print(prediction)\n",
        "   except:\n",
        "      print('Tên của hình ảnh không tồn tại '  )\n",
        "\n"
      ]
    },
    {
      "cell_type": "code",
      "source": [
        "training_set.class_indices"
      ],
      "metadata": {
        "colab": {
          "base_uri": "https://localhost:8080/"
        },
        "id": "w1Tlr4o8TqJz",
        "outputId": "0f996359-901a-46b3-f5aa-ca2355c1a7c7"
      },
      "execution_count": null,
      "outputs": [
        {
          "output_type": "execute_result",
          "data": {
            "text/plain": [
              "{'CPhi': 0,\n",
              " 'Chi': 1,\n",
              " 'Chuong': 2,\n",
              " 'NHuy': 3,\n",
              " 'Phong': 4,\n",
              " 'Thang': 5,\n",
              " 'Tri': 6,\n",
              " 'Tu': 7,\n",
              " 'Tuan': 8,\n",
              " 'VBinh': 9}"
            ]
          },
          "metadata": {},
          "execution_count": 91
        }
      ]
    }
  ],
  "metadata": {
    "colab": {
      "provenance": [],
      "mount_file_id": "1aGkA2lMfrlqWmGgjazbCpq6Zxv_2iD3Q",
      "authorship_tag": "ABX9TyPXaicVl1wCnRKvwyV72Klh",
      "include_colab_link": true
    },
    "gpuClass": "standard",
    "kernelspec": {
      "display_name": "Python 3",
      "name": "python3"
    },
    "language_info": {
      "name": "python"
    },
    "accelerator": "GPU"
  },
  "nbformat": 4,
  "nbformat_minor": 0
}