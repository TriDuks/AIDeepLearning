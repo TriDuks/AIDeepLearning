#cifar 10
from keras.datasets import mnist
from keras.utils import to_categorical
from keras.models import Sequential
from keras.layers import Dense
from keras import models

from tensorflow import keras
keras.datasets.cifar10.load_data()
(x_train,y_train),(x_test,y_test) = keras.datasets.cifar10.load_data()
