{
  "cells": [
    {
      "cell_type": "markdown",
      "metadata": {
        "id": "view-in-github",
        "colab_type": "text"
      },
      "source": [
        "<a href=\"https://colab.research.google.com/github/TriDuks/AIXuLyAnh/blob/main/Name_Class.ipynb\" target=\"_parent\"><img src=\"https://colab.research.google.com/assets/colab-badge.svg\" alt=\"Open In Colab\"/></a>"
      ]
    },
    {
      "cell_type": "code",
      "execution_count": null,
      "metadata": {
        "id": "1vUaTI1wPFH_"
      },
      "outputs": [],
      "source": [
        "#importing libraries\n",
        "import tensorflow as tf\n",
        "import numpy as np\n",
        "from keras.preprocessing.image import ImageDataGenerator\n"
      ]
    },
    {
      "cell_type": "code",
      "execution_count": null,
      "metadata": {
        "colab": {
          "base_uri": "https://localhost:8080/"
        },
        "id": "AFPWYN-1MtfD",
        "outputId": "04909b00-2bf0-4c24-aef2-5fb4ae52546f"
      },
      "outputs": [
        {
          "name": "stdout",
          "output_type": "stream",
          "text": [
            "Found 623 images belonging to 10 classes.\n"
          ]
        }
      ],
      "source": [
        "#Preprocessing để Training \n",
        "# Load ảnh, chia loại, định lại cỡ ảnh 30x40, rescale ảnh và định dạng ảnh về binary\n",
        "train_datagen = ImageDataGenerator(rescale = 1./255,\n",
        "                                    shear_range = 0.2,\n",
        "                                    zoom_range = 0.2,\n",
        "                                    horizontal_flip = True\n",
        "                                  )\n",
        "training_set = train_datagen.flow_from_directory('/content/drive/MyDrive/AI/Name_class/Training', \n",
        "                                                 target_size = (30,40), \n",
        "                                                 batch_size = 32, \n",
        "                                                 class_mode = 'categorical')"
      ]
    },
    {
      "cell_type": "code",
      "execution_count": null,
      "metadata": {
        "colab": {
          "base_uri": "https://localhost:8080/"
        },
        "id": "Mb_QFWwLXFu_",
        "outputId": "fc4e1398-2ff9-4ffe-ceb5-465b7d822953"
      },
      "outputs": [
        {
          "name": "stdout",
          "output_type": "stream",
          "text": [
            "Found 10 images belonging to 10 classes.\n"
          ]
        }
      ],
      "source": [
        "# Load ảnh, chia loại, định lại cỡ ảnh 30x40, rescale ảnh và định dạng ảnh về binary\n",
        "test_datagen = ImageDataGenerator(rescale = 1./255,\n",
        "#                                    shear_range = 0.2,\n",
        "#                                    zoom_range = 0.2,\n",
        "#                                    horizontal_flip = True\n",
        "                                  )\n",
        "test_set = train_datagen.flow_from_directory('/content/drive/MyDrive/AI/Name_class/Test', \n",
        "                                                 target_size = (30,40), \n",
        "                                                 batch_size = 32, \n",
        "                                                 class_mode = 'categorical')"
      ]
    },
    {
      "cell_type": "code",
      "execution_count": null,
      "metadata": {
        "id": "EKR64aJaRI4x"
      },
      "outputs": [],
      "source": [
        "training_set.class_indices"
      ]
    },
    {
      "cell_type": "code",
      "execution_count": null,
      "metadata": {
        "id": "r3R-j15UXX_B"
      },
      "outputs": [],
      "source": [
        "test_set.class_indices"
      ]
    },
    {
      "cell_type": "markdown",
      "metadata": {
        "id": "3eAC5FcBSl5H"
      },
      "source": [
        "# **TẠO MODEL BẰNG CNN**"
      ]
    },
    {
      "cell_type": "code",
      "execution_count": null,
      "metadata": {
        "id": "U_DZ0J8_TA5s"
      },
      "outputs": [],
      "source": [
        "from keras.preprocessing.image import ImageDataGenerator\n",
        "from tensorflow.keras.models import Sequential\n",
        "from tensorflow.keras.layers import Dense, Conv2D, MaxPool2D, Flatten\n",
        "import tensorflow.keras.backend as K\n",
        "from tensorflow.keras.callbacks import EarlyStopping\n",
        "from tensorflow.keras.utils import to_categorical"
      ]
    },
    {
      "cell_type": "code",
      "execution_count": null,
      "metadata": {
        "id": "eye5sP_bS185"
      },
      "outputs": [],
      "source": [
        "# Tạo model\n",
        "model = Sequential()"
      ]
    },
    {
      "cell_type": "code",
      "execution_count": null,
      "metadata": {
        "colab": {
          "base_uri": "https://localhost:8080/"
        },
        "id": "D-boDxoWTOiP",
        "outputId": "dc051eab-774e-49d4-ca29-6755bc14f537"
      },
      "outputs": [
        {
          "name": "stdout",
          "output_type": "stream",
          "text": [
            "Model: \"sequential\"\n",
            "_________________________________________________________________\n",
            " Layer (type)                Output Shape              Param #   \n",
            "=================================================================\n",
            " conv2d (Conv2D)             (None, 30, 40, 32)        896       \n",
            "                                                                 \n",
            " max_pooling2d (MaxPooling2D  (None, 15, 20, 32)       0         \n",
            " )                                                               \n",
            "                                                                 \n",
            " conv2d_1 (Conv2D)           (None, 13, 18, 32)        9248      \n",
            "                                                                 \n",
            " max_pooling2d_1 (MaxPooling  (None, 6, 9, 32)         0         \n",
            " 2D)                                                             \n",
            "                                                                 \n",
            " flatten (Flatten)           (None, 1728)              0         \n",
            "                                                                 \n",
            " dense (Dense)               (None, 128)               221312    \n",
            "                                                                 \n",
            " dense_1 (Dense)             (None, 10)                1290      \n",
            "                                                                 \n",
            "=================================================================\n",
            "Total params: 232,746\n",
            "Trainable params: 232,746\n",
            "Non-trainable params: 0\n",
            "_________________________________________________________________\n"
          ]
        }
      ],
      "source": [
        "#Thêm lớp chuyển đổi\n",
        "model.add(tf.keras.layers.Conv2D(filters=32, kernel_size=3, activation='relu', input_shape=[30,40,3],padding='same')) #3 kênh màu RGB\n",
        "#Pooling\n",
        "model.add(tf.keras.layers.MaxPool2D(pool_size=2, strides=2))\n",
        "#Tích chập lớp thứ 2\n",
        "model.add(Conv2D(32, kernel_size = 3, activation = 'relu'))\n",
        "model.add(MaxPool2D(pool_size=2, strides = 2))\n",
        "#Làm phẳng\n",
        "model.add(Flatten())\n",
        "#Connect\n",
        "model.add(Dense(128, activation='relu'))\n",
        "#Output\n",
        "model.add(Dense(10, activation='softmax'))\n",
        "model.summary()"
      ]
    },
    {
      "cell_type": "code",
      "execution_count": null,
      "metadata": {
        "id": "LM0dUBrHV1HR"
      },
      "outputs": [],
      "source": [
        "# Thiết lập thông số\n",
        "a = model.compile(optimizer = 'adam', loss = 'categorical_crossentropy', metrics = ['accuracy'])"
      ]
    },
    {
      "cell_type": "code",
      "execution_count": null,
      "metadata": {
        "colab": {
          "background_save": true,
          "base_uri": "https://localhost:8080/",
          "height": 363
        },
        "id": "Vb6qe55DV4rd",
        "outputId": "de73deb9-8ef1-432d-975f-f12b18f6d74a"
      },
      "outputs": [
        {
          "name": "stdout",
          "output_type": "stream",
          "text": [
            "Epoch 1/50\n",
            "20/20 [==============================] - 88s 4s/step - loss: 2.0475 - accuracy: 0.2504 - val_loss: 1.8173 - val_accuracy: 0.6000\n",
            "Epoch 2/50\n",
            "20/20 [==============================] - 2s 119ms/step - loss: 0.9960 - accuracy: 0.7368 - val_loss: 1.4599 - val_accuracy: 0.7000\n",
            "Epoch 3/50\n",
            "20/20 [==============================] - 2s 117ms/step - loss: 0.5724 - accuracy: 0.8218 - val_loss: 1.0382 - val_accuracy: 0.8000\n",
            "Epoch 4/50\n",
            "20/20 [==============================] - 3s 135ms/step - loss: 0.3519 - accuracy: 0.8780 - val_loss: 0.9521 - val_accuracy: 0.9000\n",
            "Epoch 5/50\n",
            "20/20 [==============================] - 2s 115ms/step - loss: 0.2756 - accuracy: 0.9197 - val_loss: 0.6645 - val_accuracy: 0.9000\n",
            "Epoch 6/50\n",
            "20/20 [==============================] - 2s 120ms/step - loss: 0.2135 - accuracy: 0.9438 - val_loss: 0.8173 - val_accuracy: 0.9000\n",
            "Epoch 7/50\n",
            "20/20 [==============================] - 2s 123ms/step - loss: 0.1617 - accuracy: 0.9518 - val_loss: 0.8353 - val_accuracy: 0.9000\n",
            "Epoch 8/50\n",
            "20/20 [==============================] - 3s 143ms/step - loss: 0.1316 - accuracy: 0.9647 - val_loss: 0.9903 - val_accuracy: 0.9000\n",
            "Epoch 9/50\n",
            "20/20 [==============================] - 2s 115ms/step - loss: 0.1548 - accuracy: 0.9551 - val_loss: 0.9573 - val_accuracy: 0.9000\n",
            "Epoch 10/50\n",
            "20/20 [==============================] - 2s 117ms/step - loss: 0.1319 - accuracy: 0.9695 - val_loss: 0.9706 - val_accuracy: 0.9000\n",
            "Epoch 11/50\n",
            "20/20 [==============================] - 2s 121ms/step - loss: 0.0957 - accuracy: 0.9759 - val_loss: 0.8799 - val_accuracy: 0.9000\n",
            "Epoch 12/50\n",
            "20/20 [==============================] - 3s 142ms/step - loss: 0.0617 - accuracy: 0.9872 - val_loss: 0.8172 - val_accuracy: 0.9000\n",
            "Epoch 13/50\n",
            "20/20 [==============================] - 2s 116ms/step - loss: 0.0731 - accuracy: 0.9775 - val_loss: 0.8943 - val_accuracy: 0.9000\n",
            "Epoch 14/50\n",
            "20/20 [==============================] - 2s 123ms/step - loss: 0.0519 - accuracy: 0.9791 - val_loss: 1.2620 - val_accuracy: 0.9000\n",
            "Epoch 15/50\n",
            "20/20 [==============================] - 2s 119ms/step - loss: 0.0490 - accuracy: 0.9823 - val_loss: 1.1013 - val_accuracy: 0.9000\n",
            "Epoch 16/50\n",
            "20/20 [==============================] - 3s 138ms/step - loss: 0.0376 - accuracy: 0.9888 - val_loss: 0.9176 - val_accuracy: 0.9000\n",
            "Epoch 17/50\n",
            "20/20 [==============================] - 3s 156ms/step - loss: 0.0488 - accuracy: 0.9856 - val_loss: 1.0498 - val_accuracy: 0.9000\n",
            "Epoch 18/50\n",
            "20/20 [==============================] - 2s 117ms/step - loss: 0.0466 - accuracy: 0.9839 - val_loss: 0.9944 - val_accuracy: 0.9000\n",
            "Epoch 19/50\n",
            "20/20 [==============================] - 2s 119ms/step - loss: 0.0380 - accuracy: 0.9856 - val_loss: 1.0986 - val_accuracy: 0.9000\n",
            "Epoch 20/50\n",
            "20/20 [==============================] - 2s 118ms/step - loss: 0.0303 - accuracy: 0.9936 - val_loss: 1.4075 - val_accuracy: 0.9000\n",
            "Epoch 21/50\n",
            "20/20 [==============================] - 4s 177ms/step - loss: 0.0438 - accuracy: 0.9807 - val_loss: 1.1288 - val_accuracy: 0.9000\n",
            "Epoch 22/50\n",
            "20/20 [==============================] - 2s 124ms/step - loss: 0.0545 - accuracy: 0.9872 - val_loss: 1.0613 - val_accuracy: 0.9000\n",
            "Epoch 23/50\n",
            "20/20 [==============================] - 2s 118ms/step - loss: 0.0499 - accuracy: 0.9856 - val_loss: 1.1317 - val_accuracy: 0.9000\n",
            "Epoch 24/50\n",
            "20/20 [==============================] - 2s 117ms/step - loss: 0.0462 - accuracy: 0.9888 - val_loss: 0.8371 - val_accuracy: 0.9000\n",
            "Epoch 25/50\n",
            "20/20 [==============================] - 2s 120ms/step - loss: 0.0215 - accuracy: 0.9968 - val_loss: 1.2010 - val_accuracy: 0.9000\n",
            "Epoch 26/50\n",
            "20/20 [==============================] - 4s 176ms/step - loss: 0.0351 - accuracy: 0.9920 - val_loss: 1.1096 - val_accuracy: 0.9000\n",
            "Epoch 27/50\n",
            "20/20 [==============================] - 2s 114ms/step - loss: 0.0300 - accuracy: 0.9952 - val_loss: 1.2167 - val_accuracy: 0.9000\n",
            "Epoch 28/50\n",
            "20/20 [==============================] - 2s 121ms/step - loss: 0.0295 - accuracy: 0.9888 - val_loss: 1.3235 - val_accuracy: 0.9000\n",
            "Epoch 29/50\n",
            "20/20 [==============================] - 2s 114ms/step - loss: 0.0214 - accuracy: 0.9968 - val_loss: 1.5017 - val_accuracy: 0.9000\n",
            "Epoch 30/50\n",
            "20/20 [==============================] - 3s 154ms/step - loss: 0.0154 - accuracy: 0.9952 - val_loss: 1.4638 - val_accuracy: 0.9000\n",
            "Epoch 31/50\n",
            "20/20 [==============================] - 2s 117ms/step - loss: 0.0304 - accuracy: 0.9936 - val_loss: 1.3181 - val_accuracy: 0.9000\n",
            "Epoch 32/50\n",
            "20/20 [==============================] - 2s 119ms/step - loss: 0.0454 - accuracy: 0.9856 - val_loss: 1.0938 - val_accuracy: 0.9000\n",
            "Epoch 33/50\n",
            "20/20 [==============================] - 2s 117ms/step - loss: 0.0266 - accuracy: 0.9920 - val_loss: 1.2817 - val_accuracy: 0.9000\n",
            "Epoch 34/50\n",
            "20/20 [==============================] - 3s 143ms/step - loss: 0.0076 - accuracy: 1.0000 - val_loss: 1.1562 - val_accuracy: 0.9000\n",
            "Epoch 35/50\n",
            "20/20 [==============================] - 2s 115ms/step - loss: 0.0079 - accuracy: 0.9984 - val_loss: 1.2797 - val_accuracy: 0.9000\n",
            "Epoch 36/50\n",
            "20/20 [==============================] - 3s 155ms/step - loss: 0.0088 - accuracy: 0.9968 - val_loss: 1.4818 - val_accuracy: 0.9000\n",
            "Epoch 37/50\n",
            "20/20 [==============================] - 4s 181ms/step - loss: 0.0145 - accuracy: 0.9952 - val_loss: 1.1930 - val_accuracy: 0.9000\n",
            "Epoch 38/50\n",
            "20/20 [==============================] - 3s 142ms/step - loss: 0.0053 - accuracy: 1.0000 - val_loss: 0.9540 - val_accuracy: 0.9000\n",
            "Epoch 39/50\n",
            "20/20 [==============================] - 2s 117ms/step - loss: 0.0109 - accuracy: 0.9968 - val_loss: 1.6880 - val_accuracy: 0.9000\n",
            "Epoch 40/50\n",
            "20/20 [==============================] - 2s 120ms/step - loss: 0.0072 - accuracy: 1.0000 - val_loss: 1.2488 - val_accuracy: 0.9000\n",
            "Epoch 41/50\n",
            "20/20 [==============================] - 3s 137ms/step - loss: 0.0041 - accuracy: 1.0000 - val_loss: 1.2578 - val_accuracy: 0.9000\n",
            "Epoch 42/50\n",
            "20/20 [==============================] - 2s 115ms/step - loss: 0.0046 - accuracy: 0.9984 - val_loss: 1.6277 - val_accuracy: 0.9000\n",
            "Epoch 43/50\n",
            "20/20 [==============================] - 2s 117ms/step - loss: 0.0052 - accuracy: 1.0000 - val_loss: 1.4546 - val_accuracy: 0.9000\n",
            "Epoch 44/50\n",
            "20/20 [==============================] - 2s 116ms/step - loss: 0.0081 - accuracy: 0.9984 - val_loss: 1.4916 - val_accuracy: 0.9000\n",
            "Epoch 45/50\n",
            "20/20 [==============================] - 3s 144ms/step - loss: 0.0074 - accuracy: 0.9984 - val_loss: 1.5886 - val_accuracy: 0.9000\n",
            "Epoch 46/50\n",
            "20/20 [==============================] - 3s 150ms/step - loss: 0.0055 - accuracy: 0.9984 - val_loss: 1.1618 - val_accuracy: 0.9000\n",
            "Epoch 47/50\n",
            "20/20 [==============================] - 2s 119ms/step - loss: 0.0058 - accuracy: 1.0000 - val_loss: 1.5498 - val_accuracy: 0.9000\n",
            "Epoch 48/50\n",
            "20/20 [==============================] - 2s 118ms/step - loss: 0.0042 - accuracy: 1.0000 - val_loss: 1.1118 - val_accuracy: 0.9000\n",
            "Epoch 49/50\n",
            "20/20 [==============================] - 2s 118ms/step - loss: 0.0032 - accuracy: 1.0000 - val_loss: 1.5809 - val_accuracy: 0.9000\n",
            "Epoch 50/50\n",
            "20/20 [==============================] - 3s 147ms/step - loss: 0.0031 - accuracy: 1.0000 - val_loss: 1.7086 - val_accuracy: 0.9000\n"
          ]
        },
        {
          "data": {
            "text/plain": [
              "<keras.callbacks.History at 0x7f09f8420070>"
            ]
          },
          "execution_count": 12,
          "metadata": {},
          "output_type": "execute_result"
        }
      ],
      "source": [
        "# Huấn luyện\n",
        "model.fit(x = training_set, validation_data = test_set, epochs = 50)"
      ]
    },
    {
      "cell_type": "code",
      "execution_count": 30,
      "metadata": {
        "id": "5aojTTY4cV-l",
        "colab": {
          "base_uri": "https://localhost:8080/"
        },
        "outputId": "b048ef48-ce18-4d72-ad81-4c5fc50457f0"
      },
      "outputs": [
        {
          "output_type": "stream",
          "name": "stdout",
          "text": [
            "1/1 [==============================] - 0s 278ms/step - loss: 2.2292 - accuracy: 0.3000\n"
          ]
        },
        {
          "output_type": "execute_result",
          "data": {
            "text/plain": [
              "[2.229158878326416, 0.30000001192092896]"
            ]
          },
          "metadata": {},
          "execution_count": 30
        }
      ],
      "source": [
        "model.evaluate(test_set)"
      ]
    },
    {
      "cell_type": "code",
      "execution_count": 37,
      "metadata": {
        "id": "rsgLCwAWqdjE",
        "colab": {
          "base_uri": "https://localhost:8080/"
        },
        "outputId": "c4500e4c-9c75-4c3c-f38c-0c52ea2e2436"
      },
      "outputs": [
        {
          "output_type": "stream",
          "name": "stderr",
          "text": [
            "<ipython-input-37-cbbb93cbfe82>:1: UserWarning: `Model.predict_generator` is deprecated and will be removed in a future version. Please use `Model.predict`, which supports generators.\n",
            "  y_pred = model.predict_generator(test_set)\n"
          ]
        },
        {
          "output_type": "execute_result",
          "data": {
            "text/plain": [
              "array([[0.11295529, 0.12231132, 0.14909717, 0.14244908, 0.09427723,\n",
              "        0.06882348, 0.038341  , 0.08447737, 0.11660336, 0.07066466],\n",
              "       [0.11731153, 0.12086675, 0.13813315, 0.12203175, 0.09411701,\n",
              "        0.07338816, 0.04035753, 0.09691271, 0.13266629, 0.06421513],\n",
              "       [0.11813413, 0.1272266 , 0.16058664, 0.12227481, 0.07914747,\n",
              "        0.08844715, 0.02969115, 0.0976466 , 0.11256056, 0.06428491],\n",
              "       [0.10682993, 0.13738488, 0.1293698 , 0.10790656, 0.09238837,\n",
              "        0.07907807, 0.05011577, 0.10194921, 0.11886044, 0.07611694],\n",
              "       [0.12156112, 0.12010511, 0.14276816, 0.12633558, 0.10522098,\n",
              "        0.06287161, 0.03915765, 0.07819837, 0.13643147, 0.06734996],\n",
              "       [0.11322068, 0.150867  , 0.14169085, 0.1118836 , 0.0856687 ,\n",
              "        0.07066609, 0.03944879, 0.09499677, 0.12188111, 0.06967641],\n",
              "       [0.11812621, 0.12495245, 0.16686943, 0.12451693, 0.09545832,\n",
              "        0.0640609 , 0.03202442, 0.09823824, 0.12159705, 0.05415612],\n",
              "       [0.12839183, 0.12088373, 0.14906363, 0.12517683, 0.09571698,\n",
              "        0.07190806, 0.0389212 , 0.09827095, 0.11136413, 0.06030264],\n",
              "       [0.12000214, 0.12738602, 0.14176421, 0.13562067, 0.09449371,\n",
              "        0.07459775, 0.03775096, 0.08660743, 0.1150254 , 0.06675164],\n",
              "       [0.12952805, 0.12199641, 0.17923363, 0.11842563, 0.09058923,\n",
              "        0.06098895, 0.03124903, 0.12438869, 0.09479786, 0.04880253]],\n",
              "      dtype=float32)"
            ]
          },
          "metadata": {},
          "execution_count": 37
        }
      ],
      "source": [
        "y_pred = model.predict_generator(test_set)\n",
        "y_pred"
      ]
    },
    {
      "cell_type": "code",
      "execution_count": 38,
      "metadata": {
        "id": "eQQRxylQqkWg",
        "colab": {
          "base_uri": "https://localhost:8080/"
        },
        "outputId": "e75f3ada-1b4f-4d8d-e46b-4103b3790e3c"
      },
      "outputs": [
        {
          "output_type": "execute_result",
          "data": {
            "text/plain": [
              "array([2, 2, 2, 1, 2, 1, 2, 2, 2, 2])"
            ]
          },
          "metadata": {},
          "execution_count": 38
        }
      ],
      "source": [
        "#Chuyển đổi ma trận\n",
        "y_pred = np.argmax(y_pred, axis=1)\n",
        "y_pred"
      ]
    },
    {
      "cell_type": "code",
      "execution_count": 39,
      "metadata": {
        "id": "GSF3LTLHcfiU",
        "colab": {
          "base_uri": "https://localhost:8080/",
          "height": 235
        },
        "outputId": "ec053ce7-0d6c-453d-ce94-ea2d1ed6e1a2"
      },
      "outputs": [
        {
          "output_type": "error",
          "ename": "AttributeError",
          "evalue": "ignored",
          "traceback": [
            "\u001b[0;31m---------------------------------------------------------------------------\u001b[0m",
            "\u001b[0;31mAttributeError\u001b[0m                            Traceback (most recent call last)",
            "\u001b[0;32m<ipython-input-39-937b3e63a07c>\u001b[0m in \u001b[0;36m<cell line: 3>\u001b[0;34m()\u001b[0m\n\u001b[1;32m      1\u001b[0m \u001b[0;32mimport\u001b[0m \u001b[0mmatplotlib\u001b[0m\u001b[0;34m.\u001b[0m\u001b[0mpyplot\u001b[0m \u001b[0;32mas\u001b[0m \u001b[0mplt\u001b[0m\u001b[0;34m\u001b[0m\u001b[0;34m\u001b[0m\u001b[0m\n\u001b[1;32m      2\u001b[0m \u001b[0;31m# plot the loss\u001b[0m\u001b[0;34m\u001b[0m\u001b[0;34m\u001b[0m\u001b[0m\n\u001b[0;32m----> 3\u001b[0;31m \u001b[0mplt\u001b[0m\u001b[0;34m.\u001b[0m\u001b[0mplot\u001b[0m\u001b[0;34m(\u001b[0m\u001b[0ma\u001b[0m\u001b[0;34m.\u001b[0m\u001b[0mhistory\u001b[0m\u001b[0;34m[\u001b[0m\u001b[0;34m'loss'\u001b[0m\u001b[0;34m]\u001b[0m\u001b[0;34m,\u001b[0m \u001b[0mlabel\u001b[0m\u001b[0;34m=\u001b[0m\u001b[0;34m'train loss'\u001b[0m\u001b[0;34m)\u001b[0m\u001b[0;34m\u001b[0m\u001b[0;34m\u001b[0m\u001b[0m\n\u001b[0m\u001b[1;32m      4\u001b[0m \u001b[0mplt\u001b[0m\u001b[0;34m.\u001b[0m\u001b[0mplot\u001b[0m\u001b[0;34m(\u001b[0m\u001b[0ma\u001b[0m\u001b[0;34m.\u001b[0m\u001b[0mhistory\u001b[0m\u001b[0;34m[\u001b[0m\u001b[0;34m'val_loss'\u001b[0m\u001b[0;34m]\u001b[0m\u001b[0;34m,\u001b[0m \u001b[0mlabel\u001b[0m\u001b[0;34m=\u001b[0m\u001b[0;34m'val loss'\u001b[0m\u001b[0;34m)\u001b[0m\u001b[0;34m\u001b[0m\u001b[0;34m\u001b[0m\u001b[0m\n\u001b[1;32m      5\u001b[0m \u001b[0mplt\u001b[0m\u001b[0;34m.\u001b[0m\u001b[0mlegend\u001b[0m\u001b[0;34m(\u001b[0m\u001b[0;34m)\u001b[0m\u001b[0;34m\u001b[0m\u001b[0;34m\u001b[0m\u001b[0m\n",
            "\u001b[0;31mAttributeError\u001b[0m: 'NoneType' object has no attribute 'history'"
          ]
        }
      ],
      "source": [
        "import matplotlib.pyplot as plt\n",
        "# plot the loss\n",
        "plt.plot(a.history['loss'], label='train loss')\n",
        "plt.plot(a.history['val_loss'], label='val loss')\n",
        "plt.legend()\n",
        "plt.show()\n",
        "plt.savefig('LossVal_loss')\n",
        "\n",
        "# plot the accuracy\n",
        "plt.plot(a.history['accuracy'], label='train acc')\n",
        "plt.plot(a.history['val_accuracy'], label='val acc')\n",
        "plt.legend()\n",
        "plt.show()\n",
        "plt.savefig('AccVal_acc')\n",
        "plt.plot(a.hi)"
      ]
    },
    {
      "cell_type": "code",
      "execution_count": 40,
      "metadata": {
        "id": "PO1-BL5MmKqV"
      },
      "outputs": [],
      "source": [
        "# Lưu a h5 file\n",
        "from tensorflow.keras.models import load_model\n",
        "\n",
        "model.save('/content/drive/MyDrive/AI/Name_class/model_inception.h5')"
      ]
    },
    {
      "cell_type": "code",
      "execution_count": 41,
      "metadata": {
        "colab": {
          "base_uri": "https://localhost:8080/"
        },
        "id": "UdwB1grCsBI1",
        "outputId": "d3edfd45-2edc-4ccc-bbb5-7d75d5d924dc"
      },
      "outputs": [
        {
          "output_type": "execute_result",
          "data": {
            "text/plain": [
              "<keras.engine.sequential.Sequential at 0x7f1f9af6d8b0>"
            ]
          },
          "metadata": {},
          "execution_count": 41
        }
      ],
      "source": [
        "\n",
        "from tensorflow.keras.preprocessing import image\n",
        "model=load_model('/content/drive/MyDrive/AI/Name_class/model_inception.h5')\n",
        "model"
      ]
    },
    {
      "cell_type": "code",
      "execution_count": 78,
      "metadata": {
        "colab": {
          "base_uri": "https://localhost:8080/",
          "height": 447
        },
        "id": "q3GD_5ecnNsb",
        "outputId": "d04ae8e3-33ba-489c-8284-0b9c98ee0467"
      },
      "outputs": [
        {
          "output_type": "execute_result",
          "data": {
            "text/plain": [
              "<matplotlib.image.AxesImage at 0x7f1f9acbe760>"
            ]
          },
          "metadata": {},
          "execution_count": 78
        },
        {
          "output_type": "display_data",
          "data": {
            "text/plain": [
              "<Figure size 640x480 with 1 Axes>"
            ],
            "image/png": "[encoded data removed]"
          },
          "metadata": {}
        }
      ],
      "source": [
        "import matplotlib.pyplot as plt\n",
        "img_data = tf.keras.utils.load_img('/content/drive/MyDrive/AI/Name_class/Test/Chi/chi49.jpg', target_size = (30,40))\n",
        "img_data = tf.keras.utils.img_to_array(img_data)\n",
        "plt.imshow(img_data/255)"
      ]
    },
    {
      "cell_type": "code",
      "source": [
        "img_data"
      ],
      "metadata": {
        "colab": {
          "base_uri": "https://localhost:8080/"
        },
        "id": "nnyJcNzdtNds",
        "outputId": "b36c2e95-1864-4c21-b152-c790302d296c"
      },
      "execution_count": 79,
      "outputs": [
        {
          "output_type": "execute_result",
          "data": {
            "text/plain": [
              "array([[[253., 255., 254.],\n",
              "        [252., 255., 255.],\n",
              "        [252., 255., 255.],\n",
              "        ...,\n",
              "        [255., 255., 253.],\n",
              "        [255., 255., 253.],\n",
              "        [255., 255., 253.]],\n",
              "\n",
              "       [[255., 255., 253.],\n",
              "        [255., 255., 253.],\n",
              "        [254., 255., 255.],\n",
              "        ...,\n",
              "        [255., 255., 255.],\n",
              "        [255., 255., 255.],\n",
              "        [255., 255., 255.]],\n",
              "\n",
              "       [[255., 254., 251.],\n",
              "        [255., 255., 251.],\n",
              "        [254., 254., 252.],\n",
              "        ...,\n",
              "        [255., 255., 255.],\n",
              "        [255., 255., 255.],\n",
              "        [255., 255., 255.]],\n",
              "\n",
              "       ...,\n",
              "\n",
              "       [[ 11.,  12.,  14.],\n",
              "        [ 14.,  14.,  16.],\n",
              "        [ 15.,  15.,  15.],\n",
              "        ...,\n",
              "        [ 24.,  24.,  26.],\n",
              "        [ 26.,  24.,  25.],\n",
              "        [ 35.,  31.,  32.]],\n",
              "\n",
              "       [[ 15.,  16.,  18.],\n",
              "        [ 13.,  13.,  15.],\n",
              "        [ 13.,  11.,  12.],\n",
              "        ...,\n",
              "        [ 27.,  29.,  24.],\n",
              "        [ 25.,  27.,  22.],\n",
              "        [ 19.,  20.,  15.]],\n",
              "\n",
              "       [[ 14.,  14.,  16.],\n",
              "        [ 14.,  14.,  16.],\n",
              "        [ 16.,  14.,  15.],\n",
              "        ...,\n",
              "        [ 24.,  27.,  20.],\n",
              "        [ 15.,  16.,  10.],\n",
              "        [ 29.,  30.,  24.]]], dtype=float32)"
            ]
          },
          "metadata": {},
          "execution_count": 79
        }
      ]
    },
    {
      "cell_type": "code",
      "source": [
        "img_data.shape"
      ],
      "metadata": {
        "colab": {
          "base_uri": "https://localhost:8080/"
        },
        "id": "jEaAaCwxtZkn",
        "outputId": "a664dfee-6de9-462c-af1c-487fa6ded9b6"
      },
      "execution_count": 80,
      "outputs": [
        {
          "output_type": "execute_result",
          "data": {
            "text/plain": [
              "(30, 40, 3)"
            ]
          },
          "metadata": {},
          "execution_count": 80
        }
      ]
    },
    {
      "cell_type": "code",
      "source": [
        "x = img_data/255"
      ],
      "metadata": {
        "id": "u-B2U_dGtlEC"
      },
      "execution_count": 81,
      "outputs": []
    },
    {
      "cell_type": "code",
      "source": [
        "from tensorflow.keras.applications.resnet50 import ResNet50,preprocess_input"
      ],
      "metadata": {
        "id": "WnS8vU2Qu6is"
      },
      "execution_count": 83,
      "outputs": []
    },
    {
      "cell_type": "code",
      "source": [
        "x=np.expand_dims(x,axis=0)\n",
        "img_data=preprocess_input(x)\n",
        "img_data.shape\n"
      ],
      "metadata": {
        "colab": {
          "base_uri": "https://localhost:8080/"
        },
        "id": "dyNukVBTthwv",
        "outputId": "6069b001-6d25-451d-e4e2-bb08cc53447f"
      },
      "execution_count": 82,
      "outputs": [
        {
          "output_type": "execute_result",
          "data": {
            "text/plain": [
              "(1, 30, 40, 3)"
            ]
          },
          "metadata": {},
          "execution_count": 82
        }
      ]
    },
    {
      "cell_type": "code",
      "source": [
        "model.predict(img_data)"
      ],
      "metadata": {
        "colab": {
          "base_uri": "https://localhost:8080/"
        },
        "id": "efopzh8Jupos",
        "outputId": "e172a5bd-b35c-43ff-9db1-bcefdf0a1811"
      },
      "execution_count": 84,
      "outputs": [
        {
          "output_type": "stream",
          "name": "stdout",
          "text": [
            "1/1 [==============================] - 0s 157ms/step\n"
          ]
        },
        {
          "output_type": "execute_result",
          "data": {
            "text/plain": [
              "array([[0.0000000e+00, 1.0000000e+00, 2.6568119e-23, 0.0000000e+00,\n",
              "        0.0000000e+00, 0.0000000e+00, 0.0000000e+00, 1.4926785e-18,\n",
              "        0.0000000e+00, 0.0000000e+00]], dtype=float32)"
            ]
          },
          "metadata": {},
          "execution_count": 84
        }
      ]
    },
    {
      "cell_type": "code",
      "execution_count": null,
      "metadata": {
        "id": "vWzAiVs6nHy4"
      },
      "outputs": [],
      "source": [
        "model.predict(img_data)\n",
        "a=np.argmax(model.predict(img_data), axis=1)\n",
        "a==1\n",
        "array([ True])"
      ]
    },
    {
      "cell_type": "code",
      "execution_count": null,
      "metadata": {
        "id": "UmmdYr2ZYJYB"
      },
      "outputs": [],
      "source": [
        "from keras.preprocessing import image\n",
        "import matplotlib.pyplot as plt\n",
        "test_image = tf.keras.utils.load_img('/content/drive/MyDrive/AI/Name_class/Test/Chi/chi49.jpg', target_size = (30,40))\n",
        "test_image = tf.keras.utils.img_to_array(test_image)\n",
        "plt.imshow(test_image/255)\n",
        "test_image = np.expand_dims(test_image, axis = 0)\n",
        "result = model.predict(test_image)\n",
        "print('r', result)\n",
        "print('Cat' if (result == False) else 'Dog')"
      ]
    }
  ],
  "metadata": {
    "accelerator": "GPU",
    "colab": {
      "toc_visible": true,
      "provenance": [],
      "mount_file_id": "1aGkA2lMfrlqWmGgjazbCpq6Zxv_2iD3Q",
      "authorship_tag": "ABX9TyMeXcqqxeAgGo6bf6x8X0TF",
      "include_colab_link": true
    },
    "gpuClass": "standard",
    "kernelspec": {
      "display_name": "Python 3",
      "name": "python3"
    },
    "language_info": {
      "name": "python"
    }
  },
  "nbformat": 4,
  "nbformat_minor": 0
}