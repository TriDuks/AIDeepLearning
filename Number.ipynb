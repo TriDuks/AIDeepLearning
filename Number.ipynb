{
  "nbformat": 4,
  "nbformat_minor": 0,
  "metadata": {
    "colab": {
      "provenance": [],
      "authorship_tag": "ABX9TyNhbP6dUsLRpZddg3HcLCo/",
      "include_colab_link": true
    },
    "kernelspec": {
      "name": "python3",
      "display_name": "Python 3"
    },
    "language_info": {
      "name": "python"
    }
  },
  "cells": [
    {
      "cell_type": "markdown",
      "metadata": {
        "id": "view-in-github",
        "colab_type": "text"
      },
      "source": [
        "<a href=\"https://colab.research.google.com/github/TriDuks/AIXuLyAnh/blob/main/Number.ipynb\" target=\"_parent\"><img src=\"https://colab.research.google.com/assets/colab-badge.svg\" alt=\"Open In Colab\"/></a>"
      ]
    },
    {
      "cell_type": "markdown",
      "source": [
        "# **Xử lý ảnh**\n",
        "\n"
      ],
      "metadata": {
        "id": "dIiBpO0q0eDj"
      }
    },
    {
      "cell_type": "code",
      "execution_count": null,
      "metadata": {
        "id": "Uzyur4l-zy5K"
      },
      "outputs": [],
      "source": [
        "from keras.datasets import mnist\n",
        "from keras.utils import to_categorical\n",
        "(train_images,train_labels),(test_images,test_labels)=mnist.load_data()\n"
      ]
    },
    {
      "cell_type": "code",
      "source": [
        "print(test_images.shape)\n",
        "print(train_images.shape)"
      ],
      "metadata": {
        "colab": {
          "base_uri": "https://localhost:8080/"
        },
        "id": "FRZFWGZt0dgp",
        "outputId": "e26d78ac-9981-43ab-a37a-6b99ad0d588c"
      },
      "execution_count": 90,
      "outputs": [
        {
          "output_type": "stream",
          "name": "stdout",
          "text": [
            "(10000, 28, 28)\n",
            "(60000, 28, 28)\n"
          ]
        }
      ]
    },
    {
      "cell_type": "code",
      "source": [
        "import matplotlib.pyplot as plt\n",
        "for i in range(10):\n",
        "  plt.subplot(3,5,i+1)\n",
        "  plt.tight_layout()\n",
        "  plt.imshow(train_images[i],cmap = 'gray', interpolation = 'none')\n",
        "  plt.title('Số: {}'.format(train_labels[i]))\n",
        "  plt.xticks([])\n",
        "  plt.yticks([])\n"
      ],
      "metadata": {
        "colab": {
          "base_uri": "https://localhost:8080/",
          "height": 196
        },
        "id": "cAtEMwhN1aO6",
        "outputId": "3e3e2aad-6d71-49a0-839d-2a1f02056b2f"
      },
      "execution_count": 62,
      "outputs": [
        {
          "output_type": "display_data",
          "data": {
            "text/plain": [
              "<Figure size 432x288 with 10 Axes>"
            ],
            "image/png": "[encoded data removed]"
          },
          "metadata": {}
        }
      ]
    },
    {
      "cell_type": "code",
      "source": [
        "from keras.models import Sequential\n",
        "from keras.layers import Dense\n",
        "from keras import models\n",
        "\n",
        "#Tạo mô hình\n",
        "model = Sequential()\n",
        "model.add(Dense(512, input_shape=(28*28,), activation='relu', name = 'layout'))\n",
        "model.add(Dense(10, activation='linear',name = 'Output'))\n",
        "model.summary()"
      ],
      "metadata": {
        "colab": {
          "base_uri": "https://localhost:8080/"
        },
        "id": "_3xRcq-D3JMK",
        "outputId": "ab314116-5b75-480d-caa0-7985f317c337"
      },
      "execution_count": 77,
      "outputs": [
        {
          "output_type": "stream",
          "name": "stdout",
          "text": [
            "Model: \"sequential_24\"\n",
            "_________________________________________________________________\n",
            " Layer (type)                Output Shape              Param #   \n",
            "=================================================================\n",
            " layout (Dense)              (None, 512)               401920    \n",
            "                                                                 \n",
            " Output (Dense)              (None, 10)                5130      \n",
            "                                                                 \n",
            "=================================================================\n",
            "Total params: 407,050\n",
            "Trainable params: 407,050\n",
            "Non-trainable params: 0\n",
            "_________________________________________________________________\n"
          ]
        }
      ]
    },
    {
      "cell_type": "code",
      "source": [
        "from tensorflow.python import summary\n",
        "from numpy.ma.core import reshape\n",
        "train_images = train_images.reshape((60000,28*28))\n",
        "train_images = train_images.astype('float32')/255\n",
        "\n",
        "\n",
        "test_images = test_images.reshape((10000,28*28))\n",
        "test_images = test_images.astype('float32')/255\n",
        "\n",
        "#lệnh chuyển sang one off gren\n",
        "from keras.utils import to_categorical\n",
        "train_labels = to_categorical(train_labels,10)\n",
        "test_labels = to_categorical(test_labels,10)\n",
        "#Biên dịch"
      ],
      "metadata": {
        "id": "dwEk7pkm5R9L"
      },
      "execution_count": 85,
      "outputs": []
    },
    {
      "cell_type": "code",
      "source": [
        "from keras.backend import categorical_crossentropy\n",
        "\n",
        "#Biên dịch1\n",
        "model.compile(optimizer = 'rmsprop',loss = categorical_crossentropy, metrics = ['accuracy'])\n",
        "model.fit(train_images, train_labels, epochs = 10, batch_size = 128)\n",
        "test_loss,test_acc = model.evaluate(test_images,test_labels)\n",
        "print('test_accuracy: ', test_acc)\n",
        "print('test_loss: ',test_loss)"
      ],
      "metadata": {
        "colab": {
          "base_uri": "https://localhost:8080/"
        },
        "id": "WMjsPXf77hVg",
        "outputId": "c4bd84c4-2c20-4bf3-b52f-dce66da57929"
      },
      "execution_count": 80,
      "outputs": [
        {
          "output_type": "stream",
          "name": "stdout",
          "text": [
            "Epoch 1/10\n",
            "469/469 [==============================] - 4s 8ms/step - loss: 12.8706 - accuracy: 0.1022\n",
            "Epoch 2/10\n",
            "469/469 [==============================] - 4s 8ms/step - loss: 12.8706 - accuracy: 0.1022\n",
            "Epoch 3/10\n",
            "469/469 [==============================] - 5s 10ms/step - loss: 12.8706 - accuracy: 0.1022\n",
            "Epoch 4/10\n",
            "469/469 [==============================] - 4s 8ms/step - loss: 12.8706 - accuracy: 0.1022\n",
            "Epoch 5/10\n",
            "469/469 [==============================] - 4s 8ms/step - loss: 12.8706 - accuracy: 0.1022\n",
            "Epoch 6/10\n",
            "469/469 [==============================] - 4s 9ms/step - loss: 12.8706 - accuracy: 0.1022\n",
            "Epoch 7/10\n",
            "469/469 [==============================] - 4s 9ms/step - loss: 12.8706 - accuracy: 0.1022\n",
            "Epoch 8/10\n",
            "469/469 [==============================] - 4s 8ms/step - loss: 12.8706 - accuracy: 0.1022\n",
            "Epoch 9/10\n",
            "469/469 [==============================] - 4s 8ms/step - loss: 12.8706 - accuracy: 0.1022\n",
            "Epoch 10/10\n",
            "469/469 [==============================] - 5s 10ms/step - loss: 12.8706 - accuracy: 0.1022\n",
            "313/313 [==============================] - 1s 2ms/step - loss: 12.8268 - accuracy: 0.1010\n",
            "test_accuracy:  0.10100000351667404\n",
            "test_loss:  12.826786041259766\n"
          ]
        }
      ]
    },
    {
      "cell_type": "code",
      "source": [
        "#Lưu tham số\n",
        "model.save('model1.h5')\n",
        "model11 = load_model('model1.h5')\n",
        "label1 = model11.predict"
      ],
      "metadata": {
        "id": "pjSlfU2QC8j6"
      },
      "execution_count": null,
      "outputs": []
    },
    {
      "cell_type": "code",
      "source": [],
      "metadata": {
        "id": "kzmdyrtnD8Xs"
      },
      "execution_count": null,
      "outputs": []
    }
  ]
}